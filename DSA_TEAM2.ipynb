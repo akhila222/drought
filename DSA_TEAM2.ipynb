{
 "cells": [
  {
   "cell_type": "code",
   "execution_count": 1,
   "id": "c94e18fb",
   "metadata": {},
   "outputs": [],
   "source": [
    "import pandas as pd\n",
    "import numpy as np\n",
    "import os\n",
    "import matplotlib.pyplot as plt\n",
    "import seaborn as sns"
   ]
  },
  {
   "cell_type": "code",
   "execution_count": 2,
   "id": "174780ff",
   "metadata": {},
   "outputs": [],
   "source": [
    "df=pd.read_excel(r'C:\\Users\\Anjali\\Downloads\\drought_dataset (4).xlsx')"
   ]
  },
  {
   "cell_type": "code",
   "execution_count": 3,
   "id": "7e2f93ef",
   "metadata": {},
   "outputs": [
    {
     "data": {
      "text/html": [
       "<div>\n",
       "<style scoped>\n",
       "    .dataframe tbody tr th:only-of-type {\n",
       "        vertical-align: middle;\n",
       "    }\n",
       "\n",
       "    .dataframe tbody tr th {\n",
       "        vertical-align: top;\n",
       "    }\n",
       "\n",
       "    .dataframe thead th {\n",
       "        text-align: right;\n",
       "    }\n",
       "</style>\n",
       "<table border=\"1\" class=\"dataframe\">\n",
       "  <thead>\n",
       "    <tr style=\"text-align: right;\">\n",
       "      <th></th>\n",
       "      <th>Entity</th>\n",
       "      <th>Year</th>\n",
       "      <th>Number of deaths from drought</th>\n",
       "      <th>Number of people injured from drought</th>\n",
       "      <th>Number of people affected from drought</th>\n",
       "      <th>Number of people left homeless from drought</th>\n",
       "      <th>Number of total people affected by drought</th>\n",
       "      <th>Reconstruction costs from drought</th>\n",
       "      <th>Insured damages against drought</th>\n",
       "      <th>Total economic damages from drought</th>\n",
       "      <th>Death rates from drought</th>\n",
       "      <th>Injury rates from drought</th>\n",
       "      <th>Number of people affected by drought per 100,000</th>\n",
       "      <th>Homelessness rate from drought</th>\n",
       "      <th>Total number of people affected by drought per 100,000</th>\n",
       "    </tr>\n",
       "  </thead>\n",
       "  <tbody>\n",
       "    <tr>\n",
       "      <th>0</th>\n",
       "      <td>Afghanistan</td>\n",
       "      <td>1950</td>\n",
       "      <td>0.0</td>\n",
       "      <td>0.0</td>\n",
       "      <td>0.0</td>\n",
       "      <td>0</td>\n",
       "      <td>0.0</td>\n",
       "      <td>NaN</td>\n",
       "      <td>NaN</td>\n",
       "      <td>NaN</td>\n",
       "      <td>0.0</td>\n",
       "      <td>0.0</td>\n",
       "      <td>0.000000</td>\n",
       "      <td>0</td>\n",
       "      <td>0.000000</td>\n",
       "    </tr>\n",
       "    <tr>\n",
       "      <th>1</th>\n",
       "      <td>Afghanistan</td>\n",
       "      <td>1960</td>\n",
       "      <td>0.0</td>\n",
       "      <td>0.0</td>\n",
       "      <td>4800.0</td>\n",
       "      <td>0</td>\n",
       "      <td>4800.0</td>\n",
       "      <td>0.0</td>\n",
       "      <td>0.0</td>\n",
       "      <td>20.0</td>\n",
       "      <td>0.0</td>\n",
       "      <td>0.0</td>\n",
       "      <td>44.060951</td>\n",
       "      <td>0</td>\n",
       "      <td>44.060951</td>\n",
       "    </tr>\n",
       "    <tr>\n",
       "      <th>2</th>\n",
       "      <td>Afghanistan</td>\n",
       "      <td>1970</td>\n",
       "      <td>0.0</td>\n",
       "      <td>0.0</td>\n",
       "      <td>0.0</td>\n",
       "      <td>0</td>\n",
       "      <td>0.0</td>\n",
       "      <td>0.0</td>\n",
       "      <td>0.0</td>\n",
       "      <td>0.0</td>\n",
       "      <td>0.0</td>\n",
       "      <td>0.0</td>\n",
       "      <td>0.000000</td>\n",
       "      <td>0</td>\n",
       "      <td>0.000000</td>\n",
       "    </tr>\n",
       "    <tr>\n",
       "      <th>3</th>\n",
       "      <td>Afghanistan</td>\n",
       "      <td>1980</td>\n",
       "      <td>0.0</td>\n",
       "      <td>0.0</td>\n",
       "      <td>0.0</td>\n",
       "      <td>0</td>\n",
       "      <td>0.0</td>\n",
       "      <td>0.0</td>\n",
       "      <td>0.0</td>\n",
       "      <td>0.0</td>\n",
       "      <td>0.0</td>\n",
       "      <td>0.0</td>\n",
       "      <td>0.000000</td>\n",
       "      <td>0</td>\n",
       "      <td>0.000000</td>\n",
       "    </tr>\n",
       "    <tr>\n",
       "      <th>4</th>\n",
       "      <td>Afghanistan</td>\n",
       "      <td>1990</td>\n",
       "      <td>0.0</td>\n",
       "      <td>0.0</td>\n",
       "      <td>0.0</td>\n",
       "      <td>0</td>\n",
       "      <td>0.0</td>\n",
       "      <td>0.0</td>\n",
       "      <td>0.0</td>\n",
       "      <td>0.0</td>\n",
       "      <td>0.0</td>\n",
       "      <td>0.0</td>\n",
       "      <td>0.000000</td>\n",
       "      <td>0</td>\n",
       "      <td>0.000000</td>\n",
       "    </tr>\n",
       "  </tbody>\n",
       "</table>\n",
       "</div>"
      ],
      "text/plain": [
       "        Entity  Year  Number of deaths from drought  \\\n",
       "0  Afghanistan  1950                            0.0   \n",
       "1  Afghanistan  1960                            0.0   \n",
       "2  Afghanistan  1970                            0.0   \n",
       "3  Afghanistan  1980                            0.0   \n",
       "4  Afghanistan  1990                            0.0   \n",
       "\n",
       "   Number of people injured from drought  \\\n",
       "0                                    0.0   \n",
       "1                                    0.0   \n",
       "2                                    0.0   \n",
       "3                                    0.0   \n",
       "4                                    0.0   \n",
       "\n",
       "   Number of people affected from drought  \\\n",
       "0                                     0.0   \n",
       "1                                  4800.0   \n",
       "2                                     0.0   \n",
       "3                                     0.0   \n",
       "4                                     0.0   \n",
       "\n",
       "   Number of people left homeless from drought  \\\n",
       "0                                            0   \n",
       "1                                            0   \n",
       "2                                            0   \n",
       "3                                            0   \n",
       "4                                            0   \n",
       "\n",
       "   Number of total people affected by drought  \\\n",
       "0                                         0.0   \n",
       "1                                      4800.0   \n",
       "2                                         0.0   \n",
       "3                                         0.0   \n",
       "4                                         0.0   \n",
       "\n",
       "   Reconstruction costs from drought  Insured damages against drought  \\\n",
       "0                                NaN                              NaN   \n",
       "1                                0.0                              0.0   \n",
       "2                                0.0                              0.0   \n",
       "3                                0.0                              0.0   \n",
       "4                                0.0                              0.0   \n",
       "\n",
       "   Total economic damages from drought  Death rates from drought  \\\n",
       "0                                  NaN                       0.0   \n",
       "1                                 20.0                       0.0   \n",
       "2                                  0.0                       0.0   \n",
       "3                                  0.0                       0.0   \n",
       "4                                  0.0                       0.0   \n",
       "\n",
       "   Injury rates from drought  \\\n",
       "0                        0.0   \n",
       "1                        0.0   \n",
       "2                        0.0   \n",
       "3                        0.0   \n",
       "4                        0.0   \n",
       "\n",
       "   Number of people affected by drought per 100,000  \\\n",
       "0                                          0.000000   \n",
       "1                                         44.060951   \n",
       "2                                          0.000000   \n",
       "3                                          0.000000   \n",
       "4                                          0.000000   \n",
       "\n",
       "   Homelessness rate from drought  \\\n",
       "0                               0   \n",
       "1                               0   \n",
       "2                               0   \n",
       "3                               0   \n",
       "4                               0   \n",
       "\n",
       "   Total number of people affected by drought per 100,000  \n",
       "0                                           0.000000       \n",
       "1                                          44.060951       \n",
       "2                                           0.000000       \n",
       "3                                           0.000000       \n",
       "4                                           0.000000       "
      ]
     },
     "execution_count": 3,
     "metadata": {},
     "output_type": "execute_result"
    }
   ],
   "source": [
    "df.head()"
   ]
  },
  {
   "cell_type": "code",
   "execution_count": 4,
   "id": "78a35f21",
   "metadata": {},
   "outputs": [
    {
     "data": {
      "text/html": [
       "<div>\n",
       "<style scoped>\n",
       "    .dataframe tbody tr th:only-of-type {\n",
       "        vertical-align: middle;\n",
       "    }\n",
       "\n",
       "    .dataframe tbody tr th {\n",
       "        vertical-align: top;\n",
       "    }\n",
       "\n",
       "    .dataframe thead th {\n",
       "        text-align: right;\n",
       "    }\n",
       "</style>\n",
       "<table border=\"1\" class=\"dataframe\">\n",
       "  <thead>\n",
       "    <tr style=\"text-align: right;\">\n",
       "      <th></th>\n",
       "      <th>Year</th>\n",
       "      <th>Number of deaths from drought</th>\n",
       "      <th>Number of people injured from drought</th>\n",
       "      <th>Number of people affected from drought</th>\n",
       "      <th>Number of people left homeless from drought</th>\n",
       "      <th>Number of total people affected by drought</th>\n",
       "      <th>Reconstruction costs from drought</th>\n",
       "      <th>Insured damages against drought</th>\n",
       "      <th>Total economic damages from drought</th>\n",
       "      <th>Death rates from drought</th>\n",
       "      <th>Injury rates from drought</th>\n",
       "      <th>Number of people affected by drought per 100,000</th>\n",
       "      <th>Homelessness rate from drought</th>\n",
       "      <th>Total number of people affected by drought per 100,000</th>\n",
       "    </tr>\n",
       "  </thead>\n",
       "  <tbody>\n",
       "    <tr>\n",
       "      <th>count</th>\n",
       "      <td>1464.000000</td>\n",
       "      <td>1464.000000</td>\n",
       "      <td>1464.000000</td>\n",
       "      <td>1.464000e+03</td>\n",
       "      <td>1464.0</td>\n",
       "      <td>1.464000e+03</td>\n",
       "      <td>1052.0</td>\n",
       "      <td>1.052000e+03</td>\n",
       "      <td>1.052000e+03</td>\n",
       "      <td>1464.000000</td>\n",
       "      <td>1464.000000</td>\n",
       "      <td>1464.000000</td>\n",
       "      <td>1464.0</td>\n",
       "      <td>1464.000000</td>\n",
       "    </tr>\n",
       "    <tr>\n",
       "      <th>mean</th>\n",
       "      <td>1971.318306</td>\n",
       "      <td>801.282719</td>\n",
       "      <td>0.002186</td>\n",
       "      <td>1.865758e+05</td>\n",
       "      <td>0.0</td>\n",
       "      <td>1.865758e+05</td>\n",
       "      <td>0.0</td>\n",
       "      <td>1.991825e+03</td>\n",
       "      <td>1.574354e+04</td>\n",
       "      <td>4.932525</td>\n",
       "      <td>0.000005</td>\n",
       "      <td>454.352817</td>\n",
       "      <td>0.0</td>\n",
       "      <td>454.352822</td>\n",
       "    </tr>\n",
       "    <tr>\n",
       "      <th>std</th>\n",
       "      <td>30.333706</td>\n",
       "      <td>12650.326849</td>\n",
       "      <td>0.083633</td>\n",
       "      <td>1.925238e+06</td>\n",
       "      <td>0.0</td>\n",
       "      <td>1.925238e+06</td>\n",
       "      <td>0.0</td>\n",
       "      <td>5.850080e+04</td>\n",
       "      <td>1.478494e+05</td>\n",
       "      <td>95.780338</td>\n",
       "      <td>0.000187</td>\n",
       "      <td>1664.124185</td>\n",
       "      <td>0.0</td>\n",
       "      <td>1664.124184</td>\n",
       "    </tr>\n",
       "    <tr>\n",
       "      <th>min</th>\n",
       "      <td>1900.000000</td>\n",
       "      <td>0.000000</td>\n",
       "      <td>0.000000</td>\n",
       "      <td>0.000000e+00</td>\n",
       "      <td>0.0</td>\n",
       "      <td>0.000000e+00</td>\n",
       "      <td>0.0</td>\n",
       "      <td>0.000000e+00</td>\n",
       "      <td>0.000000e+00</td>\n",
       "      <td>0.000000</td>\n",
       "      <td>0.000000</td>\n",
       "      <td>0.000000</td>\n",
       "      <td>0.0</td>\n",
       "      <td>0.000000</td>\n",
       "    </tr>\n",
       "    <tr>\n",
       "      <th>25%</th>\n",
       "      <td>1950.000000</td>\n",
       "      <td>0.000000</td>\n",
       "      <td>0.000000</td>\n",
       "      <td>0.000000e+00</td>\n",
       "      <td>0.0</td>\n",
       "      <td>0.000000e+00</td>\n",
       "      <td>0.0</td>\n",
       "      <td>0.000000e+00</td>\n",
       "      <td>0.000000e+00</td>\n",
       "      <td>0.000000</td>\n",
       "      <td>0.000000</td>\n",
       "      <td>0.000000</td>\n",
       "      <td>0.0</td>\n",
       "      <td>0.000000</td>\n",
       "    </tr>\n",
       "    <tr>\n",
       "      <th>50%</th>\n",
       "      <td>1980.000000</td>\n",
       "      <td>0.000000</td>\n",
       "      <td>0.000000</td>\n",
       "      <td>0.000000e+00</td>\n",
       "      <td>0.0</td>\n",
       "      <td>0.000000e+00</td>\n",
       "      <td>0.0</td>\n",
       "      <td>0.000000e+00</td>\n",
       "      <td>0.000000e+00</td>\n",
       "      <td>0.000000</td>\n",
       "      <td>0.000000</td>\n",
       "      <td>0.000000</td>\n",
       "      <td>0.0</td>\n",
       "      <td>0.000000</td>\n",
       "    </tr>\n",
       "    <tr>\n",
       "      <th>75%</th>\n",
       "      <td>2000.000000</td>\n",
       "      <td>0.000000</td>\n",
       "      <td>0.000000</td>\n",
       "      <td>0.000000e+00</td>\n",
       "      <td>0.0</td>\n",
       "      <td>0.000000e+00</td>\n",
       "      <td>0.0</td>\n",
       "      <td>0.000000e+00</td>\n",
       "      <td>0.000000e+00</td>\n",
       "      <td>0.000000</td>\n",
       "      <td>0.000000</td>\n",
       "      <td>0.000000</td>\n",
       "      <td>0.0</td>\n",
       "      <td>0.000000</td>\n",
       "    </tr>\n",
       "    <tr>\n",
       "      <th>max</th>\n",
       "      <td>2010.000000</td>\n",
       "      <td>350000.000000</td>\n",
       "      <td>3.200000</td>\n",
       "      <td>4.000000e+07</td>\n",
       "      <td>0.0</td>\n",
       "      <td>4.000000e+07</td>\n",
       "      <td>0.0</td>\n",
       "      <td>1.890000e+06</td>\n",
       "      <td>4.020000e+06</td>\n",
       "      <td>2987.149499</td>\n",
       "      <td>0.007146</td>\n",
       "      <td>17427.674520</td>\n",
       "      <td>0.0</td>\n",
       "      <td>17427.674520</td>\n",
       "    </tr>\n",
       "  </tbody>\n",
       "</table>\n",
       "</div>"
      ],
      "text/plain": [
       "              Year  Number of deaths from drought  \\\n",
       "count  1464.000000                    1464.000000   \n",
       "mean   1971.318306                     801.282719   \n",
       "std      30.333706                   12650.326849   \n",
       "min    1900.000000                       0.000000   \n",
       "25%    1950.000000                       0.000000   \n",
       "50%    1980.000000                       0.000000   \n",
       "75%    2000.000000                       0.000000   \n",
       "max    2010.000000                  350000.000000   \n",
       "\n",
       "       Number of people injured from drought  \\\n",
       "count                            1464.000000   \n",
       "mean                                0.002186   \n",
       "std                                 0.083633   \n",
       "min                                 0.000000   \n",
       "25%                                 0.000000   \n",
       "50%                                 0.000000   \n",
       "75%                                 0.000000   \n",
       "max                                 3.200000   \n",
       "\n",
       "       Number of people affected from drought  \\\n",
       "count                            1.464000e+03   \n",
       "mean                             1.865758e+05   \n",
       "std                              1.925238e+06   \n",
       "min                              0.000000e+00   \n",
       "25%                              0.000000e+00   \n",
       "50%                              0.000000e+00   \n",
       "75%                              0.000000e+00   \n",
       "max                              4.000000e+07   \n",
       "\n",
       "       Number of people left homeless from drought  \\\n",
       "count                                       1464.0   \n",
       "mean                                           0.0   \n",
       "std                                            0.0   \n",
       "min                                            0.0   \n",
       "25%                                            0.0   \n",
       "50%                                            0.0   \n",
       "75%                                            0.0   \n",
       "max                                            0.0   \n",
       "\n",
       "       Number of total people affected by drought  \\\n",
       "count                                1.464000e+03   \n",
       "mean                                 1.865758e+05   \n",
       "std                                  1.925238e+06   \n",
       "min                                  0.000000e+00   \n",
       "25%                                  0.000000e+00   \n",
       "50%                                  0.000000e+00   \n",
       "75%                                  0.000000e+00   \n",
       "max                                  4.000000e+07   \n",
       "\n",
       "       Reconstruction costs from drought  Insured damages against drought  \\\n",
       "count                             1052.0                     1.052000e+03   \n",
       "mean                                 0.0                     1.991825e+03   \n",
       "std                                  0.0                     5.850080e+04   \n",
       "min                                  0.0                     0.000000e+00   \n",
       "25%                                  0.0                     0.000000e+00   \n",
       "50%                                  0.0                     0.000000e+00   \n",
       "75%                                  0.0                     0.000000e+00   \n",
       "max                                  0.0                     1.890000e+06   \n",
       "\n",
       "       Total economic damages from drought  Death rates from drought  \\\n",
       "count                         1.052000e+03               1464.000000   \n",
       "mean                          1.574354e+04                  4.932525   \n",
       "std                           1.478494e+05                 95.780338   \n",
       "min                           0.000000e+00                  0.000000   \n",
       "25%                           0.000000e+00                  0.000000   \n",
       "50%                           0.000000e+00                  0.000000   \n",
       "75%                           0.000000e+00                  0.000000   \n",
       "max                           4.020000e+06               2987.149499   \n",
       "\n",
       "       Injury rates from drought  \\\n",
       "count                1464.000000   \n",
       "mean                    0.000005   \n",
       "std                     0.000187   \n",
       "min                     0.000000   \n",
       "25%                     0.000000   \n",
       "50%                     0.000000   \n",
       "75%                     0.000000   \n",
       "max                     0.007146   \n",
       "\n",
       "       Number of people affected by drought per 100,000  \\\n",
       "count                                       1464.000000   \n",
       "mean                                         454.352817   \n",
       "std                                         1664.124185   \n",
       "min                                            0.000000   \n",
       "25%                                            0.000000   \n",
       "50%                                            0.000000   \n",
       "75%                                            0.000000   \n",
       "max                                        17427.674520   \n",
       "\n",
       "       Homelessness rate from drought  \\\n",
       "count                          1464.0   \n",
       "mean                              0.0   \n",
       "std                               0.0   \n",
       "min                               0.0   \n",
       "25%                               0.0   \n",
       "50%                               0.0   \n",
       "75%                               0.0   \n",
       "max                               0.0   \n",
       "\n",
       "       Total number of people affected by drought per 100,000  \n",
       "count                                        1464.000000       \n",
       "mean                                          454.352822       \n",
       "std                                          1664.124184       \n",
       "min                                             0.000000       \n",
       "25%                                             0.000000       \n",
       "50%                                             0.000000       \n",
       "75%                                             0.000000       \n",
       "max                                         17427.674520       "
      ]
     },
     "execution_count": 4,
     "metadata": {},
     "output_type": "execute_result"
    }
   ],
   "source": [
    "df.describe()"
   ]
  },
  {
   "cell_type": "code",
   "execution_count": 5,
   "id": "3c3bcdaa",
   "metadata": {},
   "outputs": [
    {
     "name": "stdout",
     "output_type": "stream",
     "text": [
      "<class 'pandas.core.frame.DataFrame'>\n",
      "RangeIndex: 1464 entries, 0 to 1463\n",
      "Data columns (total 15 columns):\n",
      " #   Column                                                  Non-Null Count  Dtype  \n",
      "---  ------                                                  --------------  -----  \n",
      " 0   Entity                                                  1464 non-null   object \n",
      " 1   Year                                                    1464 non-null   int64  \n",
      " 2   Number of deaths from drought                           1464 non-null   float64\n",
      " 3   Number of people injured from drought                   1464 non-null   float64\n",
      " 4   Number of people affected from drought                  1464 non-null   float64\n",
      " 5   Number of people left homeless from drought             1464 non-null   int64  \n",
      " 6   Number of total people affected by drought              1464 non-null   float64\n",
      " 7   Reconstruction costs from drought                       1052 non-null   float64\n",
      " 8   Insured damages against drought                         1052 non-null   float64\n",
      " 9   Total economic damages from drought                     1052 non-null   float64\n",
      " 10  Death rates from drought                                1464 non-null   float64\n",
      " 11  Injury rates from drought                               1464 non-null   float64\n",
      " 12  Number of people affected by drought per 100,000        1464 non-null   float64\n",
      " 13  Homelessness rate from drought                          1464 non-null   int64  \n",
      " 14  Total number of people affected by drought per 100,000  1464 non-null   float64\n",
      "dtypes: float64(11), int64(3), object(1)\n",
      "memory usage: 165.9+ KB\n"
     ]
    }
   ],
   "source": [
    "df.info()"
   ]
  },
  {
   "cell_type": "code",
   "execution_count": 6,
   "id": "3228d880",
   "metadata": {},
   "outputs": [
    {
     "data": {
      "text/plain": [
       "Entity                                                      0\n",
       "Year                                                        0\n",
       "Number of deaths from drought                               0\n",
       "Number of people injured from drought                       0\n",
       "Number of people affected from drought                      0\n",
       "Number of people left homeless from drought                 0\n",
       "Number of total people affected by drought                  0\n",
       "Reconstruction costs from drought                         412\n",
       "Insured damages against drought                           412\n",
       "Total economic damages from drought                       412\n",
       "Death rates from drought                                    0\n",
       "Injury rates from drought                                   0\n",
       "Number of people affected by drought per 100,000            0\n",
       "Homelessness rate from drought                              0\n",
       "Total number of people affected by drought per 100,000      0\n",
       "dtype: int64"
      ]
     },
     "execution_count": 6,
     "metadata": {},
     "output_type": "execute_result"
    }
   ],
   "source": [
    "df.isnull().sum()"
   ]
  },
  {
   "cell_type": "code",
   "execution_count": 7,
   "id": "51c20bd9",
   "metadata": {},
   "outputs": [
    {
     "data": {
      "text/plain": [
       "0.0"
      ]
     },
     "execution_count": 7,
     "metadata": {},
     "output_type": "execute_result"
    }
   ],
   "source": [
    "df['Reconstruction costs from drought'].median()"
   ]
  },
  {
   "cell_type": "code",
   "execution_count": 8,
   "id": "a5e2da8e",
   "metadata": {},
   "outputs": [],
   "source": [
    "df['Reconstruction costs from drought'].fillna(df['Reconstruction costs from drought'].median(),inplace=True)"
   ]
  },
  {
   "cell_type": "code",
   "execution_count": 9,
   "id": "e6b56be1",
   "metadata": {},
   "outputs": [
    {
     "data": {
      "text/plain": [
       "0.0"
      ]
     },
     "execution_count": 9,
     "metadata": {},
     "output_type": "execute_result"
    }
   ],
   "source": [
    "df['Insured damages against drought'].median()"
   ]
  },
  {
   "cell_type": "code",
   "execution_count": 10,
   "id": "6f8926b2",
   "metadata": {},
   "outputs": [],
   "source": [
    "df['Insured damages against drought'].fillna(df['Insured damages against drought'].median(),inplace=True)"
   ]
  },
  {
   "cell_type": "code",
   "execution_count": 11,
   "id": "60fb53fc",
   "metadata": {},
   "outputs": [
    {
     "data": {
      "text/plain": [
       "0.0"
      ]
     },
     "execution_count": 11,
     "metadata": {},
     "output_type": "execute_result"
    }
   ],
   "source": [
    "df['Total economic damages from drought'].median()"
   ]
  },
  {
   "cell_type": "code",
   "execution_count": 12,
   "id": "7a97cb99",
   "metadata": {},
   "outputs": [],
   "source": [
    "df['Total economic damages from drought'].fillna(df['Total economic damages from drought'].median(),inplace=True)"
   ]
  },
  {
   "cell_type": "code",
   "execution_count": 13,
   "id": "af68791d",
   "metadata": {},
   "outputs": [
    {
     "data": {
      "text/plain": [
       "Entity                                                    0\n",
       "Year                                                      0\n",
       "Number of deaths from drought                             0\n",
       "Number of people injured from drought                     0\n",
       "Number of people affected from drought                    0\n",
       "Number of people left homeless from drought               0\n",
       "Number of total people affected by drought                0\n",
       "Reconstruction costs from drought                         0\n",
       "Insured damages against drought                           0\n",
       "Total economic damages from drought                       0\n",
       "Death rates from drought                                  0\n",
       "Injury rates from drought                                 0\n",
       "Number of people affected by drought per 100,000          0\n",
       "Homelessness rate from drought                            0\n",
       "Total number of people affected by drought per 100,000    0\n",
       "dtype: int64"
      ]
     },
     "execution_count": 13,
     "metadata": {},
     "output_type": "execute_result"
    }
   ],
   "source": [
    "df.isnull().sum()"
   ]
  },
  {
   "cell_type": "code",
   "execution_count": 14,
   "id": "753a51ba",
   "metadata": {},
   "outputs": [
    {
     "data": {
      "text/plain": [
       "<AxesSubplot:ylabel='Number of people left homeless from drought'>"
      ]
     },
     "execution_count": 14,
     "metadata": {},
     "output_type": "execute_result"
    },
    {
     "data": {
      "image/png": "[encoded data removed]",
      "text/plain": [
       "<Figure size 432x288 with 1 Axes>"
      ]
     },
     "metadata": {
      "needs_background": "light"
     },
     "output_type": "display_data"
    }
   ],
   "source": [
    "sns.boxplot(y=df['Number of people left homeless from drought'])"
   ]
  },
  {
   "cell_type": "code",
   "execution_count": 15,
   "id": "591142df",
   "metadata": {},
   "outputs": [
    {
     "data": {
      "text/plain": [
       "<AxesSubplot:ylabel='Number of total people affected by drought'>"
      ]
     },
     "execution_count": 15,
     "metadata": {},
     "output_type": "execute_result"
    },
    {
     "data": {
      "image/png": "[encoded data removed]",
      "text/plain": [
       "<Figure size 432x288 with 1 Axes>"
      ]
     },
     "metadata": {
      "needs_background": "light"
     },
     "output_type": "display_data"
    }
   ],
   "source": [
    "sns.boxplot(y=df['Number of total people affected by drought'])"
   ]
  },
  {
   "cell_type": "code",
   "execution_count": null,
   "id": "bf161789",
   "metadata": {},
   "outputs": [],
   "source": []
  },
  {
   "cell_type": "code",
   "execution_count": 16,
   "id": "7590634e",
   "metadata": {},
   "outputs": [
    {
     "data": {
      "text/plain": [
       "<AxesSubplot:ylabel='Death rates from drought'>"
      ]
     },
     "execution_count": 16,
     "metadata": {},
     "output_type": "execute_result"
    },
    {
     "data": {
      "image/png": "[encoded data removed]",
      "text/plain": [
       "<Figure size 432x288 with 1 Axes>"
      ]
     },
     "metadata": {
      "needs_background": "light"
     },
     "output_type": "display_data"
    }
   ],
   "source": [
    "sns.boxplot(y=df['Death rates from drought'])"
   ]
  },
  {
   "cell_type": "code",
   "execution_count": 17,
   "id": "dae31907",
   "metadata": {},
   "outputs": [
    {
     "data": {
      "text/plain": [
       "<AxesSubplot:ylabel='Number of deaths from drought'>"
      ]
     },
     "execution_count": 17,
     "metadata": {},
     "output_type": "execute_result"
    },
    {
     "data": {
      "image/png": "[encoded data removed]",
      "text/plain": [
       "<Figure size 432x288 with 1 Axes>"
      ]
     },
     "metadata": {
      "needs_background": "light"
     },
     "output_type": "display_data"
    }
   ],
   "source": [
    "sns.boxplot(y=df['Number of deaths from drought'])"
   ]
  },
  {
   "cell_type": "code",
   "execution_count": 18,
   "id": "add50c2d",
   "metadata": {},
   "outputs": [
    {
     "data": {
      "text/plain": [
       "50.0"
      ]
     },
     "execution_count": 18,
     "metadata": {},
     "output_type": "execute_result"
    }
   ],
   "source": [
    "max_thresold=df['Number of deaths from drought'].quantile(0.983)\n",
    "max_thresold"
   ]
  },
  {
   "cell_type": "code",
   "execution_count": 19,
   "id": "2afc5dac",
   "metadata": {},
   "outputs": [
    {
     "data": {
      "text/html": [
       "<div>\n",
       "<style scoped>\n",
       "    .dataframe tbody tr th:only-of-type {\n",
       "        vertical-align: middle;\n",
       "    }\n",
       "\n",
       "    .dataframe tbody tr th {\n",
       "        vertical-align: top;\n",
       "    }\n",
       "\n",
       "    .dataframe thead th {\n",
       "        text-align: right;\n",
       "    }\n",
       "</style>\n",
       "<table border=\"1\" class=\"dataframe\">\n",
       "  <thead>\n",
       "    <tr style=\"text-align: right;\">\n",
       "      <th></th>\n",
       "      <th>Entity</th>\n",
       "      <th>Year</th>\n",
       "      <th>Number of deaths from drought</th>\n",
       "      <th>Number of people injured from drought</th>\n",
       "      <th>Number of people affected from drought</th>\n",
       "      <th>Number of people left homeless from drought</th>\n",
       "      <th>Number of total people affected by drought</th>\n",
       "      <th>Reconstruction costs from drought</th>\n",
       "      <th>Insured damages against drought</th>\n",
       "      <th>Total economic damages from drought</th>\n",
       "      <th>Death rates from drought</th>\n",
       "      <th>Injury rates from drought</th>\n",
       "      <th>Number of people affected by drought per 100,000</th>\n",
       "      <th>Homelessness rate from drought</th>\n",
       "      <th>Total number of people affected by drought per 100,000</th>\n",
       "    </tr>\n",
       "  </thead>\n",
       "  <tbody>\n",
       "    <tr>\n",
       "      <th>109</th>\n",
       "      <td>Bangladesh</td>\n",
       "      <td>1940</td>\n",
       "      <td>190000.0</td>\n",
       "      <td>0.0</td>\n",
       "      <td>0.0</td>\n",
       "      <td>0</td>\n",
       "      <td>0.0</td>\n",
       "      <td>0.0</td>\n",
       "      <td>0.0</td>\n",
       "      <td>0.0</td>\n",
       "      <td>504.540064</td>\n",
       "      <td>0.0</td>\n",
       "      <td>0.000000</td>\n",
       "      <td>0</td>\n",
       "      <td>0.000000</td>\n",
       "    </tr>\n",
       "    <tr>\n",
       "      <th>237</th>\n",
       "      <td>Cape Verde</td>\n",
       "      <td>1900</td>\n",
       "      <td>1100.0</td>\n",
       "      <td>0.0</td>\n",
       "      <td>0.0</td>\n",
       "      <td>0</td>\n",
       "      <td>0.0</td>\n",
       "      <td>0.0</td>\n",
       "      <td>0.0</td>\n",
       "      <td>0.0</td>\n",
       "      <td>968.565642</td>\n",
       "      <td>0.0</td>\n",
       "      <td>0.000000</td>\n",
       "      <td>0</td>\n",
       "      <td>0.000000</td>\n",
       "    </tr>\n",
       "    <tr>\n",
       "      <th>239</th>\n",
       "      <td>Cape Verde</td>\n",
       "      <td>1920</td>\n",
       "      <td>2400.0</td>\n",
       "      <td>0.0</td>\n",
       "      <td>0.0</td>\n",
       "      <td>0</td>\n",
       "      <td>0.0</td>\n",
       "      <td>0.0</td>\n",
       "      <td>0.0</td>\n",
       "      <td>0.0</td>\n",
       "      <td>1769.911504</td>\n",
       "      <td>0.0</td>\n",
       "      <td>0.000000</td>\n",
       "      <td>0</td>\n",
       "      <td>0.000000</td>\n",
       "    </tr>\n",
       "    <tr>\n",
       "      <th>241</th>\n",
       "      <td>Cape Verde</td>\n",
       "      <td>1940</td>\n",
       "      <td>5000.0</td>\n",
       "      <td>0.0</td>\n",
       "      <td>0.0</td>\n",
       "      <td>0</td>\n",
       "      <td>0.0</td>\n",
       "      <td>0.0</td>\n",
       "      <td>0.0</td>\n",
       "      <td>0.0</td>\n",
       "      <td>2987.149499</td>\n",
       "      <td>0.0</td>\n",
       "      <td>0.000000</td>\n",
       "      <td>0</td>\n",
       "      <td>0.000000</td>\n",
       "    </tr>\n",
       "    <tr>\n",
       "      <th>262</th>\n",
       "      <td>Chad</td>\n",
       "      <td>1980</td>\n",
       "      <td>300.0</td>\n",
       "      <td>0.0</td>\n",
       "      <td>150000.0</td>\n",
       "      <td>0</td>\n",
       "      <td>150000.0</td>\n",
       "      <td>0.0</td>\n",
       "      <td>0.0</td>\n",
       "      <td>0.0</td>\n",
       "      <td>6.645990</td>\n",
       "      <td>0.0</td>\n",
       "      <td>3322.995126</td>\n",
       "      <td>0</td>\n",
       "      <td>3322.995126</td>\n",
       "    </tr>\n",
       "    <tr>\n",
       "      <th>280</th>\n",
       "      <td>China</td>\n",
       "      <td>1920</td>\n",
       "      <td>350000.0</td>\n",
       "      <td>0.0</td>\n",
       "      <td>2000000.0</td>\n",
       "      <td>0</td>\n",
       "      <td>2000000.0</td>\n",
       "      <td>0.0</td>\n",
       "      <td>0.0</td>\n",
       "      <td>0.0</td>\n",
       "      <td>72.300986</td>\n",
       "      <td>0.0</td>\n",
       "      <td>424.163934</td>\n",
       "      <td>0</td>\n",
       "      <td>424.163934</td>\n",
       "    </tr>\n",
       "    <tr>\n",
       "      <th>286</th>\n",
       "      <td>China</td>\n",
       "      <td>1980</td>\n",
       "      <td>140.0</td>\n",
       "      <td>0.0</td>\n",
       "      <td>4900000.0</td>\n",
       "      <td>0</td>\n",
       "      <td>4900000.0</td>\n",
       "      <td>0.0</td>\n",
       "      <td>0.0</td>\n",
       "      <td>94288.7</td>\n",
       "      <td>0.012305</td>\n",
       "      <td>0.0</td>\n",
       "      <td>430.684407</td>\n",
       "      <td>0</td>\n",
       "      <td>430.684407</td>\n",
       "    </tr>\n",
       "    <tr>\n",
       "      <th>287</th>\n",
       "      <td>China</td>\n",
       "      <td>1990</td>\n",
       "      <td>200.0</td>\n",
       "      <td>0.0</td>\n",
       "      <td>13375000.0</td>\n",
       "      <td>0</td>\n",
       "      <td>13375000.0</td>\n",
       "      <td>0.0</td>\n",
       "      <td>0.0</td>\n",
       "      <td>1399030.0</td>\n",
       "      <td>0.016766</td>\n",
       "      <td>0.0</td>\n",
       "      <td>1083.676136</td>\n",
       "      <td>0</td>\n",
       "      <td>1083.676136</td>\n",
       "    </tr>\n",
       "    <tr>\n",
       "      <th>430</th>\n",
       "      <td>Ethiopia</td>\n",
       "      <td>1960</td>\n",
       "      <td>200.0</td>\n",
       "      <td>0.0</td>\n",
       "      <td>320000.0</td>\n",
       "      <td>0</td>\n",
       "      <td>320000.0</td>\n",
       "      <td>0.0</td>\n",
       "      <td>0.0</td>\n",
       "      <td>100.0</td>\n",
       "      <td>0.799552</td>\n",
       "      <td>0.0</td>\n",
       "      <td>1214.425697</td>\n",
       "      <td>0</td>\n",
       "      <td>1214.425697</td>\n",
       "    </tr>\n",
       "    <tr>\n",
       "      <th>431</th>\n",
       "      <td>Ethiopia</td>\n",
       "      <td>1970</td>\n",
       "      <td>10000.0</td>\n",
       "      <td>0.0</td>\n",
       "      <td>300000.0</td>\n",
       "      <td>0</td>\n",
       "      <td>300000.0</td>\n",
       "      <td>0.0</td>\n",
       "      <td>0.0</td>\n",
       "      <td>7600.0</td>\n",
       "      <td>32.219609</td>\n",
       "      <td>0.0</td>\n",
       "      <td>966.588266</td>\n",
       "      <td>0</td>\n",
       "      <td>966.588266</td>\n",
       "    </tr>\n",
       "    <tr>\n",
       "      <th>432</th>\n",
       "      <td>Ethiopia</td>\n",
       "      <td>1980</td>\n",
       "      <td>30036.7</td>\n",
       "      <td>0.0</td>\n",
       "      <td>2125000.0</td>\n",
       "      <td>0</td>\n",
       "      <td>2125000.0</td>\n",
       "      <td>0.0</td>\n",
       "      <td>0.0</td>\n",
       "      <td>0.0</td>\n",
       "      <td>78.736092</td>\n",
       "      <td>0.0</td>\n",
       "      <td>5052.110972</td>\n",
       "      <td>0</td>\n",
       "      <td>5052.110972</td>\n",
       "    </tr>\n",
       "    <tr>\n",
       "      <th>607</th>\n",
       "      <td>India</td>\n",
       "      <td>1900</td>\n",
       "      <td>125000.0</td>\n",
       "      <td>0.0</td>\n",
       "      <td>0.0</td>\n",
       "      <td>0</td>\n",
       "      <td>0.0</td>\n",
       "      <td>0.0</td>\n",
       "      <td>0.0</td>\n",
       "      <td>0.0</td>\n",
       "      <td>51.424679</td>\n",
       "      <td>0.0</td>\n",
       "      <td>0.000000</td>\n",
       "      <td>0</td>\n",
       "      <td>0.000000</td>\n",
       "    </tr>\n",
       "    <tr>\n",
       "      <th>611</th>\n",
       "      <td>India</td>\n",
       "      <td>1940</td>\n",
       "      <td>150000.0</td>\n",
       "      <td>0.0</td>\n",
       "      <td>0.0</td>\n",
       "      <td>0</td>\n",
       "      <td>0.0</td>\n",
       "      <td>0.0</td>\n",
       "      <td>0.0</td>\n",
       "      <td>0.0</td>\n",
       "      <td>45.127631</td>\n",
       "      <td>0.0</td>\n",
       "      <td>0.000000</td>\n",
       "      <td>0</td>\n",
       "      <td>0.000000</td>\n",
       "    </tr>\n",
       "    <tr>\n",
       "      <th>613</th>\n",
       "      <td>India</td>\n",
       "      <td>1960</td>\n",
       "      <td>150000.0</td>\n",
       "      <td>0.0</td>\n",
       "      <td>10066600.0</td>\n",
       "      <td>0</td>\n",
       "      <td>10066600.0</td>\n",
       "      <td>0.0</td>\n",
       "      <td>0.0</td>\n",
       "      <td>10000.0</td>\n",
       "      <td>30.052712</td>\n",
       "      <td>0.0</td>\n",
       "      <td>2017.137998</td>\n",
       "      <td>0</td>\n",
       "      <td>2017.137998</td>\n",
       "    </tr>\n",
       "    <tr>\n",
       "      <th>624</th>\n",
       "      <td>Indonesia</td>\n",
       "      <td>1960</td>\n",
       "      <td>800.0</td>\n",
       "      <td>0.0</td>\n",
       "      <td>20400.0</td>\n",
       "      <td>0</td>\n",
       "      <td>20400.0</td>\n",
       "      <td>0.0</td>\n",
       "      <td>0.0</td>\n",
       "      <td>0.0</td>\n",
       "      <td>0.776511</td>\n",
       "      <td>0.0</td>\n",
       "      <td>19.801019</td>\n",
       "      <td>0</td>\n",
       "      <td>19.801019</td>\n",
       "    </tr>\n",
       "    <tr>\n",
       "      <th>626</th>\n",
       "      <td>Indonesia</td>\n",
       "      <td>1980</td>\n",
       "      <td>59.4</td>\n",
       "      <td>0.0</td>\n",
       "      <td>300.0</td>\n",
       "      <td>0</td>\n",
       "      <td>300.0</td>\n",
       "      <td>0.0</td>\n",
       "      <td>0.0</td>\n",
       "      <td>0.0</td>\n",
       "      <td>0.037355</td>\n",
       "      <td>0.0</td>\n",
       "      <td>0.183213</td>\n",
       "      <td>0</td>\n",
       "      <td>0.183213</td>\n",
       "    </tr>\n",
       "    <tr>\n",
       "      <th>627</th>\n",
       "      <td>Indonesia</td>\n",
       "      <td>1990</td>\n",
       "      <td>67.2</td>\n",
       "      <td>0.0</td>\n",
       "      <td>106500.0</td>\n",
       "      <td>0</td>\n",
       "      <td>106500.0</td>\n",
       "      <td>0.0</td>\n",
       "      <td>0.0</td>\n",
       "      <td>8800.0</td>\n",
       "      <td>0.033132</td>\n",
       "      <td>0.0</td>\n",
       "      <td>52.508061</td>\n",
       "      <td>0</td>\n",
       "      <td>52.508061</td>\n",
       "    </tr>\n",
       "    <tr>\n",
       "      <th>897</th>\n",
       "      <td>Mozambique</td>\n",
       "      <td>1980</td>\n",
       "      <td>10005.0</td>\n",
       "      <td>0.0</td>\n",
       "      <td>475800.0</td>\n",
       "      <td>0</td>\n",
       "      <td>475800.0</td>\n",
       "      <td>0.0</td>\n",
       "      <td>0.0</td>\n",
       "      <td>0.0</td>\n",
       "      <td>83.981017</td>\n",
       "      <td>0.0</td>\n",
       "      <td>3993.497673</td>\n",
       "      <td>0</td>\n",
       "      <td>3993.497673</td>\n",
       "    </tr>\n",
       "    <tr>\n",
       "      <th>965</th>\n",
       "      <td>Niger</td>\n",
       "      <td>1910</td>\n",
       "      <td>8500.0</td>\n",
       "      <td>0.0</td>\n",
       "      <td>3200.0</td>\n",
       "      <td>0</td>\n",
       "      <td>3200.0</td>\n",
       "      <td>0.0</td>\n",
       "      <td>0.0</td>\n",
       "      <td>0.0</td>\n",
       "      <td>414.219523</td>\n",
       "      <td>0.0</td>\n",
       "      <td>155.941467</td>\n",
       "      <td>0</td>\n",
       "      <td>155.941467</td>\n",
       "    </tr>\n",
       "    <tr>\n",
       "      <th>1209</th>\n",
       "      <td>Somalia</td>\n",
       "      <td>1970</td>\n",
       "      <td>1900.0</td>\n",
       "      <td>0.0</td>\n",
       "      <td>23000.0</td>\n",
       "      <td>0</td>\n",
       "      <td>23000.0</td>\n",
       "      <td>0.0</td>\n",
       "      <td>0.0</td>\n",
       "      <td>0.0</td>\n",
       "      <td>54.084828</td>\n",
       "      <td>0.0</td>\n",
       "      <td>654.711073</td>\n",
       "      <td>0</td>\n",
       "      <td>654.711073</td>\n",
       "    </tr>\n",
       "    <tr>\n",
       "      <th>1210</th>\n",
       "      <td>Somalia</td>\n",
       "      <td>1980</td>\n",
       "      <td>60.0</td>\n",
       "      <td>0.0</td>\n",
       "      <td>55350.0</td>\n",
       "      <td>0</td>\n",
       "      <td>55350.0</td>\n",
       "      <td>0.0</td>\n",
       "      <td>0.0</td>\n",
       "      <td>0.0</td>\n",
       "      <td>0.874381</td>\n",
       "      <td>0.0</td>\n",
       "      <td>805.024558</td>\n",
       "      <td>0</td>\n",
       "      <td>805.024558</td>\n",
       "    </tr>\n",
       "    <tr>\n",
       "      <th>1213</th>\n",
       "      <td>Somalia</td>\n",
       "      <td>2010</td>\n",
       "      <td>2000.0</td>\n",
       "      <td>0.0</td>\n",
       "      <td>1573562.4</td>\n",
       "      <td>0</td>\n",
       "      <td>1573562.4</td>\n",
       "      <td>0.0</td>\n",
       "      <td>0.0</td>\n",
       "      <td>0.0</td>\n",
       "      <td>16.605779</td>\n",
       "      <td>0.0</td>\n",
       "      <td>11971.649080</td>\n",
       "      <td>0</td>\n",
       "      <td>11971.649080</td>\n",
       "    </tr>\n",
       "    <tr>\n",
       "      <th>1234</th>\n",
       "      <td>Soviet Union</td>\n",
       "      <td>1920</td>\n",
       "      <td>120000.0</td>\n",
       "      <td>0.0</td>\n",
       "      <td>500000.0</td>\n",
       "      <td>0</td>\n",
       "      <td>500000.0</td>\n",
       "      <td>0.0</td>\n",
       "      <td>0.0</td>\n",
       "      <td>0.0</td>\n",
       "      <td>0.000000</td>\n",
       "      <td>0.0</td>\n",
       "      <td>0.000000</td>\n",
       "      <td>0</td>\n",
       "      <td>0.000000</td>\n",
       "    </tr>\n",
       "    <tr>\n",
       "      <th>1258</th>\n",
       "      <td>Sudan</td>\n",
       "      <td>1980</td>\n",
       "      <td>15000.0</td>\n",
       "      <td>0.0</td>\n",
       "      <td>1185000.0</td>\n",
       "      <td>0</td>\n",
       "      <td>1185000.0</td>\n",
       "      <td>0.0</td>\n",
       "      <td>0.0</td>\n",
       "      <td>0.0</td>\n",
       "      <td>93.121430</td>\n",
       "      <td>0.0</td>\n",
       "      <td>7099.736995</td>\n",
       "      <td>0</td>\n",
       "      <td>7099.736995</td>\n",
       "    </tr>\n",
       "  </tbody>\n",
       "</table>\n",
       "</div>"
      ],
      "text/plain": [
       "            Entity  Year  Number of deaths from drought  \\\n",
       "109     Bangladesh  1940                       190000.0   \n",
       "237     Cape Verde  1900                         1100.0   \n",
       "239     Cape Verde  1920                         2400.0   \n",
       "241     Cape Verde  1940                         5000.0   \n",
       "262           Chad  1980                          300.0   \n",
       "280          China  1920                       350000.0   \n",
       "286          China  1980                          140.0   \n",
       "287          China  1990                          200.0   \n",
       "430       Ethiopia  1960                          200.0   \n",
       "431       Ethiopia  1970                        10000.0   \n",
       "432       Ethiopia  1980                        30036.7   \n",
       "607          India  1900                       125000.0   \n",
       "611          India  1940                       150000.0   \n",
       "613          India  1960                       150000.0   \n",
       "624      Indonesia  1960                          800.0   \n",
       "626      Indonesia  1980                           59.4   \n",
       "627      Indonesia  1990                           67.2   \n",
       "897     Mozambique  1980                        10005.0   \n",
       "965          Niger  1910                         8500.0   \n",
       "1209       Somalia  1970                         1900.0   \n",
       "1210       Somalia  1980                           60.0   \n",
       "1213       Somalia  2010                         2000.0   \n",
       "1234  Soviet Union  1920                       120000.0   \n",
       "1258         Sudan  1980                        15000.0   \n",
       "\n",
       "      Number of people injured from drought  \\\n",
       "109                                     0.0   \n",
       "237                                     0.0   \n",
       "239                                     0.0   \n",
       "241                                     0.0   \n",
       "262                                     0.0   \n",
       "280                                     0.0   \n",
       "286                                     0.0   \n",
       "287                                     0.0   \n",
       "430                                     0.0   \n",
       "431                                     0.0   \n",
       "432                                     0.0   \n",
       "607                                     0.0   \n",
       "611                                     0.0   \n",
       "613                                     0.0   \n",
       "624                                     0.0   \n",
       "626                                     0.0   \n",
       "627                                     0.0   \n",
       "897                                     0.0   \n",
       "965                                     0.0   \n",
       "1209                                    0.0   \n",
       "1210                                    0.0   \n",
       "1213                                    0.0   \n",
       "1234                                    0.0   \n",
       "1258                                    0.0   \n",
       "\n",
       "      Number of people affected from drought  \\\n",
       "109                                      0.0   \n",
       "237                                      0.0   \n",
       "239                                      0.0   \n",
       "241                                      0.0   \n",
       "262                                 150000.0   \n",
       "280                                2000000.0   \n",
       "286                                4900000.0   \n",
       "287                               13375000.0   \n",
       "430                                 320000.0   \n",
       "431                                 300000.0   \n",
       "432                                2125000.0   \n",
       "607                                      0.0   \n",
       "611                                      0.0   \n",
       "613                               10066600.0   \n",
       "624                                  20400.0   \n",
       "626                                    300.0   \n",
       "627                                 106500.0   \n",
       "897                                 475800.0   \n",
       "965                                   3200.0   \n",
       "1209                                 23000.0   \n",
       "1210                                 55350.0   \n",
       "1213                               1573562.4   \n",
       "1234                                500000.0   \n",
       "1258                               1185000.0   \n",
       "\n",
       "      Number of people left homeless from drought  \\\n",
       "109                                             0   \n",
       "237                                             0   \n",
       "239                                             0   \n",
       "241                                             0   \n",
       "262                                             0   \n",
       "280                                             0   \n",
       "286                                             0   \n",
       "287                                             0   \n",
       "430                                             0   \n",
       "431                                             0   \n",
       "432                                             0   \n",
       "607                                             0   \n",
       "611                                             0   \n",
       "613                                             0   \n",
       "624                                             0   \n",
       "626                                             0   \n",
       "627                                             0   \n",
       "897                                             0   \n",
       "965                                             0   \n",
       "1209                                            0   \n",
       "1210                                            0   \n",
       "1213                                            0   \n",
       "1234                                            0   \n",
       "1258                                            0   \n",
       "\n",
       "      Number of total people affected by drought  \\\n",
       "109                                          0.0   \n",
       "237                                          0.0   \n",
       "239                                          0.0   \n",
       "241                                          0.0   \n",
       "262                                     150000.0   \n",
       "280                                    2000000.0   \n",
       "286                                    4900000.0   \n",
       "287                                   13375000.0   \n",
       "430                                     320000.0   \n",
       "431                                     300000.0   \n",
       "432                                    2125000.0   \n",
       "607                                          0.0   \n",
       "611                                          0.0   \n",
       "613                                   10066600.0   \n",
       "624                                      20400.0   \n",
       "626                                        300.0   \n",
       "627                                     106500.0   \n",
       "897                                     475800.0   \n",
       "965                                       3200.0   \n",
       "1209                                     23000.0   \n",
       "1210                                     55350.0   \n",
       "1213                                   1573562.4   \n",
       "1234                                    500000.0   \n",
       "1258                                   1185000.0   \n",
       "\n",
       "      Reconstruction costs from drought  Insured damages against drought  \\\n",
       "109                                 0.0                              0.0   \n",
       "237                                 0.0                              0.0   \n",
       "239                                 0.0                              0.0   \n",
       "241                                 0.0                              0.0   \n",
       "262                                 0.0                              0.0   \n",
       "280                                 0.0                              0.0   \n",
       "286                                 0.0                              0.0   \n",
       "287                                 0.0                              0.0   \n",
       "430                                 0.0                              0.0   \n",
       "431                                 0.0                              0.0   \n",
       "432                                 0.0                              0.0   \n",
       "607                                 0.0                              0.0   \n",
       "611                                 0.0                              0.0   \n",
       "613                                 0.0                              0.0   \n",
       "624                                 0.0                              0.0   \n",
       "626                                 0.0                              0.0   \n",
       "627                                 0.0                              0.0   \n",
       "897                                 0.0                              0.0   \n",
       "965                                 0.0                              0.0   \n",
       "1209                                0.0                              0.0   \n",
       "1210                                0.0                              0.0   \n",
       "1213                                0.0                              0.0   \n",
       "1234                                0.0                              0.0   \n",
       "1258                                0.0                              0.0   \n",
       "\n",
       "      Total economic damages from drought  Death rates from drought  \\\n",
       "109                                   0.0                504.540064   \n",
       "237                                   0.0                968.565642   \n",
       "239                                   0.0               1769.911504   \n",
       "241                                   0.0               2987.149499   \n",
       "262                                   0.0                  6.645990   \n",
       "280                                   0.0                 72.300986   \n",
       "286                               94288.7                  0.012305   \n",
       "287                             1399030.0                  0.016766   \n",
       "430                                 100.0                  0.799552   \n",
       "431                                7600.0                 32.219609   \n",
       "432                                   0.0                 78.736092   \n",
       "607                                   0.0                 51.424679   \n",
       "611                                   0.0                 45.127631   \n",
       "613                               10000.0                 30.052712   \n",
       "624                                   0.0                  0.776511   \n",
       "626                                   0.0                  0.037355   \n",
       "627                                8800.0                  0.033132   \n",
       "897                                   0.0                 83.981017   \n",
       "965                                   0.0                414.219523   \n",
       "1209                                  0.0                 54.084828   \n",
       "1210                                  0.0                  0.874381   \n",
       "1213                                  0.0                 16.605779   \n",
       "1234                                  0.0                  0.000000   \n",
       "1258                                  0.0                 93.121430   \n",
       "\n",
       "      Injury rates from drought  \\\n",
       "109                         0.0   \n",
       "237                         0.0   \n",
       "239                         0.0   \n",
       "241                         0.0   \n",
       "262                         0.0   \n",
       "280                         0.0   \n",
       "286                         0.0   \n",
       "287                         0.0   \n",
       "430                         0.0   \n",
       "431                         0.0   \n",
       "432                         0.0   \n",
       "607                         0.0   \n",
       "611                         0.0   \n",
       "613                         0.0   \n",
       "624                         0.0   \n",
       "626                         0.0   \n",
       "627                         0.0   \n",
       "897                         0.0   \n",
       "965                         0.0   \n",
       "1209                        0.0   \n",
       "1210                        0.0   \n",
       "1213                        0.0   \n",
       "1234                        0.0   \n",
       "1258                        0.0   \n",
       "\n",
       "      Number of people affected by drought per 100,000  \\\n",
       "109                                           0.000000   \n",
       "237                                           0.000000   \n",
       "239                                           0.000000   \n",
       "241                                           0.000000   \n",
       "262                                        3322.995126   \n",
       "280                                         424.163934   \n",
       "286                                         430.684407   \n",
       "287                                        1083.676136   \n",
       "430                                        1214.425697   \n",
       "431                                         966.588266   \n",
       "432                                        5052.110972   \n",
       "607                                           0.000000   \n",
       "611                                           0.000000   \n",
       "613                                        2017.137998   \n",
       "624                                          19.801019   \n",
       "626                                           0.183213   \n",
       "627                                          52.508061   \n",
       "897                                        3993.497673   \n",
       "965                                         155.941467   \n",
       "1209                                        654.711073   \n",
       "1210                                        805.024558   \n",
       "1213                                      11971.649080   \n",
       "1234                                          0.000000   \n",
       "1258                                       7099.736995   \n",
       "\n",
       "      Homelessness rate from drought  \\\n",
       "109                                0   \n",
       "237                                0   \n",
       "239                                0   \n",
       "241                                0   \n",
       "262                                0   \n",
       "280                                0   \n",
       "286                                0   \n",
       "287                                0   \n",
       "430                                0   \n",
       "431                                0   \n",
       "432                                0   \n",
       "607                                0   \n",
       "611                                0   \n",
       "613                                0   \n",
       "624                                0   \n",
       "626                                0   \n",
       "627                                0   \n",
       "897                                0   \n",
       "965                                0   \n",
       "1209                               0   \n",
       "1210                               0   \n",
       "1213                               0   \n",
       "1234                               0   \n",
       "1258                               0   \n",
       "\n",
       "      Total number of people affected by drought per 100,000  \n",
       "109                                            0.000000       \n",
       "237                                            0.000000       \n",
       "239                                            0.000000       \n",
       "241                                            0.000000       \n",
       "262                                         3322.995126       \n",
       "280                                          424.163934       \n",
       "286                                          430.684407       \n",
       "287                                         1083.676136       \n",
       "430                                         1214.425697       \n",
       "431                                          966.588266       \n",
       "432                                         5052.110972       \n",
       "607                                            0.000000       \n",
       "611                                            0.000000       \n",
       "613                                         2017.137998       \n",
       "624                                           19.801019       \n",
       "626                                            0.183213       \n",
       "627                                           52.508061       \n",
       "897                                         3993.497673       \n",
       "965                                          155.941467       \n",
       "1209                                         654.711073       \n",
       "1210                                         805.024558       \n",
       "1213                                       11971.649080       \n",
       "1234                                           0.000000       \n",
       "1258                                        7099.736995       "
      ]
     },
     "execution_count": 19,
     "metadata": {},
     "output_type": "execute_result"
    }
   ],
   "source": [
    "df[df['Number of deaths from drought']>max_thresold]"
   ]
  },
  {
   "cell_type": "code",
   "execution_count": 20,
   "id": "406cde15",
   "metadata": {},
   "outputs": [
    {
     "data": {
      "text/plain": [
       "(1438, 15)"
      ]
     },
     "execution_count": 20,
     "metadata": {},
     "output_type": "execute_result"
    }
   ],
   "source": [
    "data=df[df['Number of deaths from drought']<50]\n",
    "data.shape"
   ]
  },
  {
   "cell_type": "code",
   "execution_count": 21,
   "id": "2f8c310b",
   "metadata": {},
   "outputs": [
    {
     "data": {
      "text/plain": [
       "<AxesSubplot:ylabel='Number of deaths from drought'>"
      ]
     },
     "execution_count": 21,
     "metadata": {},
     "output_type": "execute_result"
    },
    {
     "data": {
      "image/png": "[encoded data removed]",
      "text/plain": [
       "<Figure size 432x288 with 1 Axes>"
      ]
     },
     "metadata": {
      "needs_background": "light"
     },
     "output_type": "display_data"
    }
   ],
   "source": [
    "sns.boxplot(y=data['Number of deaths from drought'])"
   ]
  },
  {
   "cell_type": "code",
   "execution_count": 22,
   "id": "cf9e10d9",
   "metadata": {},
   "outputs": [
    {
     "data": {
      "text/plain": [
       "<AxesSubplot:ylabel='Death rates from drought'>"
      ]
     },
     "execution_count": 22,
     "metadata": {},
     "output_type": "execute_result"
    },
    {
     "data": {
      "image/png": "[encoded data removed]",
      "text/plain": [
       "<Figure size 432x288 with 1 Axes>"
      ]
     },
     "metadata": {
      "needs_background": "light"
     },
     "output_type": "display_data"
    }
   ],
   "source": [
    "sns.boxplot(y=data['Death rates from drought'])"
   ]
  },
  {
   "cell_type": "code",
   "execution_count": 23,
   "id": "e3d31a9a",
   "metadata": {},
   "outputs": [
    {
     "data": {
      "text/plain": [
       "0.0914775077790047"
      ]
     },
     "execution_count": 23,
     "metadata": {},
     "output_type": "execute_result"
    }
   ],
   "source": [
    "max_thresold=data['Death rates from drought'].quantile(0.997)\n",
    "max_thresold"
   ]
  },
  {
   "cell_type": "code",
   "execution_count": 24,
   "id": "8493e401",
   "metadata": {},
   "outputs": [
    {
     "data": {
      "text/html": [
       "<div>\n",
       "<style scoped>\n",
       "    .dataframe tbody tr th:only-of-type {\n",
       "        vertical-align: middle;\n",
       "    }\n",
       "\n",
       "    .dataframe tbody tr th {\n",
       "        vertical-align: top;\n",
       "    }\n",
       "\n",
       "    .dataframe thead th {\n",
       "        text-align: right;\n",
       "    }\n",
       "</style>\n",
       "<table border=\"1\" class=\"dataframe\">\n",
       "  <thead>\n",
       "    <tr style=\"text-align: right;\">\n",
       "      <th></th>\n",
       "      <th>Entity</th>\n",
       "      <th>Year</th>\n",
       "      <th>Number of deaths from drought</th>\n",
       "      <th>Number of people injured from drought</th>\n",
       "      <th>Number of people affected from drought</th>\n",
       "      <th>Number of people left homeless from drought</th>\n",
       "      <th>Number of total people affected by drought</th>\n",
       "      <th>Reconstruction costs from drought</th>\n",
       "      <th>Insured damages against drought</th>\n",
       "      <th>Total economic damages from drought</th>\n",
       "      <th>Death rates from drought</th>\n",
       "      <th>Injury rates from drought</th>\n",
       "      <th>Number of people affected by drought per 100,000</th>\n",
       "      <th>Homelessness rate from drought</th>\n",
       "      <th>Total number of people affected by drought per 100,000</th>\n",
       "    </tr>\n",
       "  </thead>\n",
       "  <tbody>\n",
       "    <tr>\n",
       "      <th>214</th>\n",
       "      <td>Burundi</td>\n",
       "      <td>2000</td>\n",
       "      <td>12.0</td>\n",
       "      <td>0.0</td>\n",
       "      <td>241250.0</td>\n",
       "      <td>0</td>\n",
       "      <td>241250.0</td>\n",
       "      <td>0.0</td>\n",
       "      <td>0.0</td>\n",
       "      <td>0.0</td>\n",
       "      <td>0.162933</td>\n",
       "      <td>0.0</td>\n",
       "      <td>3235.075204</td>\n",
       "      <td>0</td>\n",
       "      <td>3235.075204</td>\n",
       "    </tr>\n",
       "    <tr>\n",
       "      <th>783</th>\n",
       "      <td>Madagascar</td>\n",
       "      <td>1980</td>\n",
       "      <td>20.0</td>\n",
       "      <td>0.0</td>\n",
       "      <td>195000.0</td>\n",
       "      <td>0</td>\n",
       "      <td>195000.0</td>\n",
       "      <td>0.0</td>\n",
       "      <td>0.0</td>\n",
       "      <td>0.0</td>\n",
       "      <td>0.182615</td>\n",
       "      <td>0.0</td>\n",
       "      <td>1982.124407</td>\n",
       "      <td>0</td>\n",
       "      <td>1982.124407</td>\n",
       "    </tr>\n",
       "    <tr>\n",
       "      <th>1031</th>\n",
       "      <td>Papua New Guinea</td>\n",
       "      <td>1990</td>\n",
       "      <td>6.0</td>\n",
       "      <td>0.0</td>\n",
       "      <td>50000.0</td>\n",
       "      <td>0</td>\n",
       "      <td>50000.0</td>\n",
       "      <td>0.0</td>\n",
       "      <td>0.0</td>\n",
       "      <td>0.0</td>\n",
       "      <td>0.110152</td>\n",
       "      <td>0.0</td>\n",
       "      <td>917.936479</td>\n",
       "      <td>0</td>\n",
       "      <td>917.936479</td>\n",
       "    </tr>\n",
       "    <tr>\n",
       "      <th>1121</th>\n",
       "      <td>Rwanda</td>\n",
       "      <td>1980</td>\n",
       "      <td>23.7</td>\n",
       "      <td>0.0</td>\n",
       "      <td>48000.0</td>\n",
       "      <td>0</td>\n",
       "      <td>48000.0</td>\n",
       "      <td>0.0</td>\n",
       "      <td>0.0</td>\n",
       "      <td>0.0</td>\n",
       "      <td>0.325684</td>\n",
       "      <td>0.0</td>\n",
       "      <td>793.954185</td>\n",
       "      <td>0</td>\n",
       "      <td>793.954185</td>\n",
       "    </tr>\n",
       "    <tr>\n",
       "      <th>1208</th>\n",
       "      <td>Somalia</td>\n",
       "      <td>1960</td>\n",
       "      <td>5.0</td>\n",
       "      <td>0.0</td>\n",
       "      <td>70000.0</td>\n",
       "      <td>0</td>\n",
       "      <td>70000.0</td>\n",
       "      <td>0.0</td>\n",
       "      <td>0.0</td>\n",
       "      <td>0.0</td>\n",
       "      <td>0.166611</td>\n",
       "      <td>0.0</td>\n",
       "      <td>2332.555815</td>\n",
       "      <td>0</td>\n",
       "      <td>2332.555815</td>\n",
       "    </tr>\n",
       "  </tbody>\n",
       "</table>\n",
       "</div>"
      ],
      "text/plain": [
       "                Entity  Year  Number of deaths from drought  \\\n",
       "214            Burundi  2000                           12.0   \n",
       "783         Madagascar  1980                           20.0   \n",
       "1031  Papua New Guinea  1990                            6.0   \n",
       "1121            Rwanda  1980                           23.7   \n",
       "1208           Somalia  1960                            5.0   \n",
       "\n",
       "      Number of people injured from drought  \\\n",
       "214                                     0.0   \n",
       "783                                     0.0   \n",
       "1031                                    0.0   \n",
       "1121                                    0.0   \n",
       "1208                                    0.0   \n",
       "\n",
       "      Number of people affected from drought  \\\n",
       "214                                 241250.0   \n",
       "783                                 195000.0   \n",
       "1031                                 50000.0   \n",
       "1121                                 48000.0   \n",
       "1208                                 70000.0   \n",
       "\n",
       "      Number of people left homeless from drought  \\\n",
       "214                                             0   \n",
       "783                                             0   \n",
       "1031                                            0   \n",
       "1121                                            0   \n",
       "1208                                            0   \n",
       "\n",
       "      Number of total people affected by drought  \\\n",
       "214                                     241250.0   \n",
       "783                                     195000.0   \n",
       "1031                                     50000.0   \n",
       "1121                                     48000.0   \n",
       "1208                                     70000.0   \n",
       "\n",
       "      Reconstruction costs from drought  Insured damages against drought  \\\n",
       "214                                 0.0                              0.0   \n",
       "783                                 0.0                              0.0   \n",
       "1031                                0.0                              0.0   \n",
       "1121                                0.0                              0.0   \n",
       "1208                                0.0                              0.0   \n",
       "\n",
       "      Total economic damages from drought  Death rates from drought  \\\n",
       "214                                   0.0                  0.162933   \n",
       "783                                   0.0                  0.182615   \n",
       "1031                                  0.0                  0.110152   \n",
       "1121                                  0.0                  0.325684   \n",
       "1208                                  0.0                  0.166611   \n",
       "\n",
       "      Injury rates from drought  \\\n",
       "214                         0.0   \n",
       "783                         0.0   \n",
       "1031                        0.0   \n",
       "1121                        0.0   \n",
       "1208                        0.0   \n",
       "\n",
       "      Number of people affected by drought per 100,000  \\\n",
       "214                                        3235.075204   \n",
       "783                                        1982.124407   \n",
       "1031                                        917.936479   \n",
       "1121                                        793.954185   \n",
       "1208                                       2332.555815   \n",
       "\n",
       "      Homelessness rate from drought  \\\n",
       "214                                0   \n",
       "783                                0   \n",
       "1031                               0   \n",
       "1121                               0   \n",
       "1208                               0   \n",
       "\n",
       "      Total number of people affected by drought per 100,000  \n",
       "214                                         3235.075204       \n",
       "783                                         1982.124407       \n",
       "1031                                         917.936479       \n",
       "1121                                         793.954185       \n",
       "1208                                        2332.555815       "
      ]
     },
     "execution_count": 24,
     "metadata": {},
     "output_type": "execute_result"
    }
   ],
   "source": [
    "data[data['Death rates from drought']>max_thresold]"
   ]
  },
  {
   "cell_type": "code",
   "execution_count": 25,
   "id": "d3ba5592",
   "metadata": {},
   "outputs": [
    {
     "data": {
      "text/plain": [
       "(1433, 15)"
      ]
     },
     "execution_count": 25,
     "metadata": {},
     "output_type": "execute_result"
    }
   ],
   "source": [
    "data=data[data['Death rates from drought']<max_thresold]\n",
    "data.shape"
   ]
  },
  {
   "cell_type": "code",
   "execution_count": 26,
   "id": "fd8692c6",
   "metadata": {},
   "outputs": [
    {
     "data": {
      "text/plain": [
       "<AxesSubplot:ylabel='Death rates from drought'>"
      ]
     },
     "execution_count": 26,
     "metadata": {},
     "output_type": "execute_result"
    },
    {
     "data": {
      "image/png": "[encoded data removed]",
      "text/plain": [
       "<Figure size 432x288 with 1 Axes>"
      ]
     },
     "metadata": {
      "needs_background": "light"
     },
     "output_type": "display_data"
    }
   ],
   "source": [
    "sns.boxplot(y=data['Death rates from drought'])"
   ]
  },
  {
   "cell_type": "code",
   "execution_count": 27,
   "id": "2745b3ec",
   "metadata": {},
   "outputs": [
    {
     "data": {
      "text/plain": [
       "<AxesSubplot:ylabel='Number of people injured from drought'>"
      ]
     },
     "execution_count": 27,
     "metadata": {},
     "output_type": "execute_result"
    },
    {
     "data": {
      "image/png": "[encoded data removed]",
      "text/plain": [
       "<Figure size 432x288 with 1 Axes>"
      ]
     },
     "metadata": {
      "needs_background": "light"
     },
     "output_type": "display_data"
    }
   ],
   "source": [
    "sns.boxplot(y=data['Number of people injured from drought'])"
   ]
  },
  {
   "cell_type": "code",
   "execution_count": 28,
   "id": "f3053837",
   "metadata": {},
   "outputs": [
    {
     "data": {
      "text/plain": [
       "0.0"
      ]
     },
     "execution_count": 28,
     "metadata": {},
     "output_type": "execute_result"
    }
   ],
   "source": [
    "max_thresold=data['Number of people injured from drought'].quantile(0.99)\n",
    "max_thresold"
   ]
  },
  {
   "cell_type": "code",
   "execution_count": 29,
   "id": "39a2c238",
   "metadata": {},
   "outputs": [
    {
     "data": {
      "text/html": [
       "<div>\n",
       "<style scoped>\n",
       "    .dataframe tbody tr th:only-of-type {\n",
       "        vertical-align: middle;\n",
       "    }\n",
       "\n",
       "    .dataframe tbody tr th {\n",
       "        vertical-align: top;\n",
       "    }\n",
       "\n",
       "    .dataframe thead th {\n",
       "        text-align: right;\n",
       "    }\n",
       "</style>\n",
       "<table border=\"1\" class=\"dataframe\">\n",
       "  <thead>\n",
       "    <tr style=\"text-align: right;\">\n",
       "      <th></th>\n",
       "      <th>Year</th>\n",
       "      <th>Number of deaths from drought</th>\n",
       "      <th>Number of people injured from drought</th>\n",
       "      <th>Number of people affected from drought</th>\n",
       "      <th>Number of people left homeless from drought</th>\n",
       "      <th>Number of total people affected by drought</th>\n",
       "      <th>Reconstruction costs from drought</th>\n",
       "      <th>Insured damages against drought</th>\n",
       "      <th>Total economic damages from drought</th>\n",
       "      <th>Death rates from drought</th>\n",
       "      <th>Injury rates from drought</th>\n",
       "      <th>Number of people affected by drought per 100,000</th>\n",
       "      <th>Homelessness rate from drought</th>\n",
       "      <th>Total number of people affected by drought per 100,000</th>\n",
       "    </tr>\n",
       "  </thead>\n",
       "  <tbody>\n",
       "    <tr>\n",
       "      <th>count</th>\n",
       "      <td>1433.000000</td>\n",
       "      <td>1433.000000</td>\n",
       "      <td>1433.000000</td>\n",
       "      <td>1.433000e+03</td>\n",
       "      <td>1433.0</td>\n",
       "      <td>1.433000e+03</td>\n",
       "      <td>1433.0</td>\n",
       "      <td>1.433000e+03</td>\n",
       "      <td>1.433000e+03</td>\n",
       "      <td>1433.000000</td>\n",
       "      <td>1433.000000</td>\n",
       "      <td>1433.000000</td>\n",
       "      <td>1433.0</td>\n",
       "      <td>1433.000000</td>\n",
       "    </tr>\n",
       "    <tr>\n",
       "      <th>mean</th>\n",
       "      <td>1971.500349</td>\n",
       "      <td>0.099721</td>\n",
       "      <td>0.002233</td>\n",
       "      <td>1.636553e+05</td>\n",
       "      <td>0.0</td>\n",
       "      <td>1.636553e+05</td>\n",
       "      <td>0.0</td>\n",
       "      <td>1.462247e+03</td>\n",
       "      <td>1.049713e+04</td>\n",
       "      <td>0.000266</td>\n",
       "      <td>0.000005</td>\n",
       "      <td>425.541927</td>\n",
       "      <td>0.0</td>\n",
       "      <td>425.541932</td>\n",
       "    </tr>\n",
       "    <tr>\n",
       "      <th>std</th>\n",
       "      <td>30.313472</td>\n",
       "      <td>1.137741</td>\n",
       "      <td>0.084533</td>\n",
       "      <td>1.890341e+06</td>\n",
       "      <td>0.0</td>\n",
       "      <td>1.890341e+06</td>\n",
       "      <td>0.0</td>\n",
       "      <td>5.012549e+04</td>\n",
       "      <td>1.214171e+05</td>\n",
       "      <td>0.002698</td>\n",
       "      <td>0.000189</td>\n",
       "      <td>1622.706530</td>\n",
       "      <td>0.0</td>\n",
       "      <td>1622.706529</td>\n",
       "    </tr>\n",
       "    <tr>\n",
       "      <th>min</th>\n",
       "      <td>1900.000000</td>\n",
       "      <td>0.000000</td>\n",
       "      <td>0.000000</td>\n",
       "      <td>0.000000e+00</td>\n",
       "      <td>0.0</td>\n",
       "      <td>0.000000e+00</td>\n",
       "      <td>0.0</td>\n",
       "      <td>0.000000e+00</td>\n",
       "      <td>0.000000e+00</td>\n",
       "      <td>0.000000</td>\n",
       "      <td>0.000000</td>\n",
       "      <td>0.000000</td>\n",
       "      <td>0.0</td>\n",
       "      <td>0.000000</td>\n",
       "    </tr>\n",
       "    <tr>\n",
       "      <th>25%</th>\n",
       "      <td>1950.000000</td>\n",
       "      <td>0.000000</td>\n",
       "      <td>0.000000</td>\n",
       "      <td>0.000000e+00</td>\n",
       "      <td>0.0</td>\n",
       "      <td>0.000000e+00</td>\n",
       "      <td>0.0</td>\n",
       "      <td>0.000000e+00</td>\n",
       "      <td>0.000000e+00</td>\n",
       "      <td>0.000000</td>\n",
       "      <td>0.000000</td>\n",
       "      <td>0.000000</td>\n",
       "      <td>0.0</td>\n",
       "      <td>0.000000</td>\n",
       "    </tr>\n",
       "    <tr>\n",
       "      <th>50%</th>\n",
       "      <td>1980.000000</td>\n",
       "      <td>0.000000</td>\n",
       "      <td>0.000000</td>\n",
       "      <td>0.000000e+00</td>\n",
       "      <td>0.0</td>\n",
       "      <td>0.000000e+00</td>\n",
       "      <td>0.0</td>\n",
       "      <td>0.000000e+00</td>\n",
       "      <td>0.000000e+00</td>\n",
       "      <td>0.000000</td>\n",
       "      <td>0.000000</td>\n",
       "      <td>0.000000</td>\n",
       "      <td>0.0</td>\n",
       "      <td>0.000000</td>\n",
       "    </tr>\n",
       "    <tr>\n",
       "      <th>75%</th>\n",
       "      <td>2000.000000</td>\n",
       "      <td>0.000000</td>\n",
       "      <td>0.000000</td>\n",
       "      <td>0.000000e+00</td>\n",
       "      <td>0.0</td>\n",
       "      <td>0.000000e+00</td>\n",
       "      <td>0.0</td>\n",
       "      <td>0.000000e+00</td>\n",
       "      <td>0.000000e+00</td>\n",
       "      <td>0.000000</td>\n",
       "      <td>0.000000</td>\n",
       "      <td>0.000000</td>\n",
       "      <td>0.0</td>\n",
       "      <td>0.000000</td>\n",
       "    </tr>\n",
       "    <tr>\n",
       "      <th>max</th>\n",
       "      <td>2010.000000</td>\n",
       "      <td>30.000000</td>\n",
       "      <td>3.200000</td>\n",
       "      <td>4.000000e+07</td>\n",
       "      <td>0.0</td>\n",
       "      <td>4.000000e+07</td>\n",
       "      <td>0.0</td>\n",
       "      <td>1.890000e+06</td>\n",
       "      <td>4.020000e+06</td>\n",
       "      <td>0.050105</td>\n",
       "      <td>0.007146</td>\n",
       "      <td>17427.674520</td>\n",
       "      <td>0.0</td>\n",
       "      <td>17427.674520</td>\n",
       "    </tr>\n",
       "  </tbody>\n",
       "</table>\n",
       "</div>"
      ],
      "text/plain": [
       "              Year  Number of deaths from drought  \\\n",
       "count  1433.000000                    1433.000000   \n",
       "mean   1971.500349                       0.099721   \n",
       "std      30.313472                       1.137741   \n",
       "min    1900.000000                       0.000000   \n",
       "25%    1950.000000                       0.000000   \n",
       "50%    1980.000000                       0.000000   \n",
       "75%    2000.000000                       0.000000   \n",
       "max    2010.000000                      30.000000   \n",
       "\n",
       "       Number of people injured from drought  \\\n",
       "count                            1433.000000   \n",
       "mean                                0.002233   \n",
       "std                                 0.084533   \n",
       "min                                 0.000000   \n",
       "25%                                 0.000000   \n",
       "50%                                 0.000000   \n",
       "75%                                 0.000000   \n",
       "max                                 3.200000   \n",
       "\n",
       "       Number of people affected from drought  \\\n",
       "count                            1.433000e+03   \n",
       "mean                             1.636553e+05   \n",
       "std                              1.890341e+06   \n",
       "min                              0.000000e+00   \n",
       "25%                              0.000000e+00   \n",
       "50%                              0.000000e+00   \n",
       "75%                              0.000000e+00   \n",
       "max                              4.000000e+07   \n",
       "\n",
       "       Number of people left homeless from drought  \\\n",
       "count                                       1433.0   \n",
       "mean                                           0.0   \n",
       "std                                            0.0   \n",
       "min                                            0.0   \n",
       "25%                                            0.0   \n",
       "50%                                            0.0   \n",
       "75%                                            0.0   \n",
       "max                                            0.0   \n",
       "\n",
       "       Number of total people affected by drought  \\\n",
       "count                                1.433000e+03   \n",
       "mean                                 1.636553e+05   \n",
       "std                                  1.890341e+06   \n",
       "min                                  0.000000e+00   \n",
       "25%                                  0.000000e+00   \n",
       "50%                                  0.000000e+00   \n",
       "75%                                  0.000000e+00   \n",
       "max                                  4.000000e+07   \n",
       "\n",
       "       Reconstruction costs from drought  Insured damages against drought  \\\n",
       "count                             1433.0                     1.433000e+03   \n",
       "mean                                 0.0                     1.462247e+03   \n",
       "std                                  0.0                     5.012549e+04   \n",
       "min                                  0.0                     0.000000e+00   \n",
       "25%                                  0.0                     0.000000e+00   \n",
       "50%                                  0.0                     0.000000e+00   \n",
       "75%                                  0.0                     0.000000e+00   \n",
       "max                                  0.0                     1.890000e+06   \n",
       "\n",
       "       Total economic damages from drought  Death rates from drought  \\\n",
       "count                         1.433000e+03               1433.000000   \n",
       "mean                          1.049713e+04                  0.000266   \n",
       "std                           1.214171e+05                  0.002698   \n",
       "min                           0.000000e+00                  0.000000   \n",
       "25%                           0.000000e+00                  0.000000   \n",
       "50%                           0.000000e+00                  0.000000   \n",
       "75%                           0.000000e+00                  0.000000   \n",
       "max                           4.020000e+06                  0.050105   \n",
       "\n",
       "       Injury rates from drought  \\\n",
       "count                1433.000000   \n",
       "mean                    0.000005   \n",
       "std                     0.000189   \n",
       "min                     0.000000   \n",
       "25%                     0.000000   \n",
       "50%                     0.000000   \n",
       "75%                     0.000000   \n",
       "max                     0.007146   \n",
       "\n",
       "       Number of people affected by drought per 100,000  \\\n",
       "count                                       1433.000000   \n",
       "mean                                         425.541927   \n",
       "std                                         1622.706530   \n",
       "min                                            0.000000   \n",
       "25%                                            0.000000   \n",
       "50%                                            0.000000   \n",
       "75%                                            0.000000   \n",
       "max                                        17427.674520   \n",
       "\n",
       "       Homelessness rate from drought  \\\n",
       "count                          1433.0   \n",
       "mean                              0.0   \n",
       "std                               0.0   \n",
       "min                               0.0   \n",
       "25%                               0.0   \n",
       "50%                               0.0   \n",
       "75%                               0.0   \n",
       "max                               0.0   \n",
       "\n",
       "       Total number of people affected by drought per 100,000  \n",
       "count                                        1433.000000       \n",
       "mean                                          425.541932       \n",
       "std                                          1622.706529       \n",
       "min                                             0.000000       \n",
       "25%                                             0.000000       \n",
       "50%                                             0.000000       \n",
       "75%                                             0.000000       \n",
       "max                                         17427.674520       "
      ]
     },
     "execution_count": 29,
     "metadata": {},
     "output_type": "execute_result"
    }
   ],
   "source": [
    "data.describe()"
   ]
  },
  {
   "cell_type": "code",
   "execution_count": 30,
   "id": "0a8ff4ac",
   "metadata": {},
   "outputs": [
    {
     "data": {
      "text/plain": [
       "<AxesSubplot:ylabel='Number of people affected from drought'>"
      ]
     },
     "execution_count": 30,
     "metadata": {},
     "output_type": "execute_result"
    },
    {
     "data": {
      "image/png": "[encoded data removed]",
      "text/plain": [
       "<Figure size 432x288 with 1 Axes>"
      ]
     },
     "metadata": {
      "needs_background": "light"
     },
     "output_type": "display_data"
    }
   ],
   "source": [
    "sns.boxplot(y=data['Number of people affected from drought'])"
   ]
  },
  {
   "cell_type": "code",
   "execution_count": 31,
   "id": "ae9d2168",
   "metadata": {},
   "outputs": [
    {
     "data": {
      "text/plain": [
       "25467193.599999685"
      ]
     },
     "execution_count": 31,
     "metadata": {},
     "output_type": "execute_result"
    }
   ],
   "source": [
    "max_thresold=data['Number of people affected from drought'].quantile(0.998)\n",
    "max_thresold"
   ]
  },
  {
   "cell_type": "code",
   "execution_count": 32,
   "id": "0a62b919",
   "metadata": {},
   "outputs": [
    {
     "data": {
      "text/plain": [
       "(3, 15)"
      ]
     },
     "execution_count": 32,
     "metadata": {},
     "output_type": "execute_result"
    }
   ],
   "source": [
    "data[data['Number of people affected from drought']>max_thresold].shape"
   ]
  },
  {
   "cell_type": "code",
   "execution_count": 33,
   "id": "eed4b238",
   "metadata": {},
   "outputs": [],
   "source": [
    "data=data[data['Number of people affected from drought']<max_thresold]"
   ]
  },
  {
   "cell_type": "code",
   "execution_count": 34,
   "id": "37bf1245",
   "metadata": {},
   "outputs": [
    {
     "data": {
      "text/plain": [
       "<AxesSubplot:ylabel='Number of people affected from drought'>"
      ]
     },
     "execution_count": 34,
     "metadata": {},
     "output_type": "execute_result"
    },
    {
     "data": {
      "image/png": "[encoded data removed]",
      "text/plain": [
       "<Figure size 432x288 with 1 Axes>"
      ]
     },
     "metadata": {
      "needs_background": "light"
     },
     "output_type": "display_data"
    }
   ],
   "source": [
    "sns.boxplot(y=data['Number of people affected from drought'])"
   ]
  },
  {
   "cell_type": "code",
   "execution_count": 35,
   "id": "2cceddbc",
   "metadata": {},
   "outputs": [
    {
     "data": {
      "text/plain": [
       "(1430, 15)"
      ]
     },
     "execution_count": 35,
     "metadata": {},
     "output_type": "execute_result"
    }
   ],
   "source": [
    "data.shape"
   ]
  },
  {
   "cell_type": "code",
   "execution_count": 36,
   "id": "4ad5712b",
   "metadata": {},
   "outputs": [
    {
     "data": {
      "text/plain": [
       "<AxesSubplot:ylabel='Injury rates from drought'>"
      ]
     },
     "execution_count": 36,
     "metadata": {},
     "output_type": "execute_result"
    },
    {
     "data": {
      "image/png": "[encoded data removed]",
      "text/plain": [
       "<Figure size 432x288 with 1 Axes>"
      ]
     },
     "metadata": {
      "needs_background": "light"
     },
     "output_type": "display_data"
    }
   ],
   "source": [
    "sns.boxplot(y=data['Injury rates from drought'])"
   ]
  },
  {
   "cell_type": "code",
   "execution_count": 37,
   "id": "3bac291f",
   "metadata": {},
   "outputs": [
    {
     "data": {
      "text/plain": [
       "0.0"
      ]
     },
     "execution_count": 37,
     "metadata": {},
     "output_type": "execute_result"
    }
   ],
   "source": [
    "max_thresold=data['Injury rates from drought'].quantile(0.999)\n",
    "max_thresold"
   ]
  },
  {
   "cell_type": "code",
   "execution_count": 38,
   "id": "33bf3923",
   "metadata": {},
   "outputs": [
    {
     "data": {
      "text/plain": [
       "<AxesSubplot:ylabel='Number of people affected by drought per 100,000'>"
      ]
     },
     "execution_count": 38,
     "metadata": {},
     "output_type": "execute_result"
    },
    {
     "data": {
      "image/png": "[encoded data removed]",
      "text/plain": [
       "<Figure size 432x288 with 1 Axes>"
      ]
     },
     "metadata": {
      "needs_background": "light"
     },
     "output_type": "display_data"
    }
   ],
   "source": [
    "sns.boxplot(y=data['Number of people affected by drought per 100,000'])"
   ]
  },
  {
   "cell_type": "code",
   "execution_count": 39,
   "id": "1cc50457",
   "metadata": {},
   "outputs": [
    {
     "data": {
      "text/plain": [
       "10382.43622677001"
      ]
     },
     "execution_count": 39,
     "metadata": {},
     "output_type": "execute_result"
    }
   ],
   "source": [
    "max_thresold=data['Number of people affected by drought per 100,000'].quantile(0.993)\n",
    "max_thresold"
   ]
  },
  {
   "cell_type": "code",
   "execution_count": 40,
   "id": "7b52bbc2",
   "metadata": {},
   "outputs": [
    {
     "data": {
      "text/plain": [
       "(11, 15)"
      ]
     },
     "execution_count": 40,
     "metadata": {},
     "output_type": "execute_result"
    }
   ],
   "source": [
    "data[data['Number of people affected by drought per 100,000']>max_thresold].shape"
   ]
  },
  {
   "cell_type": "code",
   "execution_count": 41,
   "id": "a7bcaa02",
   "metadata": {},
   "outputs": [],
   "source": [
    "data=data[data['Number of people affected by drought per 100,000']<max_thresold]"
   ]
  },
  {
   "cell_type": "code",
   "execution_count": 42,
   "id": "91008fe9",
   "metadata": {},
   "outputs": [
    {
     "data": {
      "text/plain": [
       "<AxesSubplot:ylabel='Number of people affected by drought per 100,000'>"
      ]
     },
     "execution_count": 42,
     "metadata": {},
     "output_type": "execute_result"
    },
    {
     "data": {
      "image/png": "[encoded data removed]",
      "text/plain": [
       "<Figure size 432x288 with 1 Axes>"
      ]
     },
     "metadata": {
      "needs_background": "light"
     },
     "output_type": "display_data"
    }
   ],
   "source": [
    "sns.boxplot(y=data['Number of people affected by drought per 100,000'])"
   ]
  },
  {
   "cell_type": "code",
   "execution_count": 43,
   "id": "eec2e436",
   "metadata": {},
   "outputs": [
    {
     "data": {
      "text/plain": [
       "(1419, 15)"
      ]
     },
     "execution_count": 43,
     "metadata": {},
     "output_type": "execute_result"
    }
   ],
   "source": [
    "data.shape\n"
   ]
  },
  {
   "cell_type": "code",
   "execution_count": 44,
   "id": "45af32ae",
   "metadata": {},
   "outputs": [
    {
     "data": {
      "text/plain": [
       "<AxesSubplot:ylabel='Total number of people affected by drought per 100,000'>"
      ]
     },
     "execution_count": 44,
     "metadata": {},
     "output_type": "execute_result"
    },
    {
     "data": {
      "image/png": "[encoded data removed]",
      "text/plain": [
       "<Figure size 432x288 with 1 Axes>"
      ]
     },
     "metadata": {
      "needs_background": "light"
     },
     "output_type": "display_data"
    }
   ],
   "source": [
    "sns.boxplot(y=data['Total number of people affected by drought per 100,000'])"
   ]
  },
  {
   "cell_type": "code",
   "execution_count": 45,
   "id": "1c01b0e0",
   "metadata": {},
   "outputs": [],
   "source": [
    "corr=data.corr()"
   ]
  },
  {
   "cell_type": "code",
   "execution_count": 46,
   "id": "0e7624ad",
   "metadata": {},
   "outputs": [
    {
     "data": {
      "text/plain": [
       "<AxesSubplot:>"
      ]
     },
     "execution_count": 46,
     "metadata": {},
     "output_type": "execute_result"
    },
    {
     "data": {
      "image/png": "[encoded data removed]",
      "text/plain": [
       "<Figure size 1440x720 with 2 Axes>"
      ]
     },
     "metadata": {
      "needs_background": "light"
     },
     "output_type": "display_data"
    }
   ],
   "source": [
    "plt.subplots(figsize=(20,10))\n",
    "sns.heatmap(corr,vmin=0.96,vmax=1,annot=True,cmap='YlOrRd')"
   ]
  },
  {
   "cell_type": "code",
   "execution_count": 47,
   "id": "8e179160",
   "metadata": {},
   "outputs": [],
   "source": [
    "data.drop(['Number of people affected by drought per 100,000','Injury rates from drought'],axis=1,inplace=True)\n",
    "data.drop(['Entity','Number of total people affected by drought'],axis=1,inplace=True)"
   ]
  },
  {
   "cell_type": "code",
   "execution_count": 48,
   "id": "9bc75d84",
   "metadata": {},
   "outputs": [],
   "source": [
    "X=data.drop('Total number of people affected by drought per 100,000',axis=1)\n",
    "y=data['Total number of people affected by drought per 100,000']\n"
   ]
  },
  {
   "cell_type": "code",
   "execution_count": 49,
   "id": "3524877f",
   "metadata": {},
   "outputs": [
    {
     "name": "stdout",
     "output_type": "stream",
     "text": [
      "<class 'pandas.core.frame.DataFrame'>\n",
      "Int64Index: 1419 entries, 0 to 1463\n",
      "Data columns (total 11 columns):\n",
      " #   Column                                                  Non-Null Count  Dtype  \n",
      "---  ------                                                  --------------  -----  \n",
      " 0   Year                                                    1419 non-null   int64  \n",
      " 1   Number of deaths from drought                           1419 non-null   float64\n",
      " 2   Number of people injured from drought                   1419 non-null   float64\n",
      " 3   Number of people affected from drought                  1419 non-null   float64\n",
      " 4   Number of people left homeless from drought             1419 non-null   int64  \n",
      " 5   Reconstruction costs from drought                       1419 non-null   float64\n",
      " 6   Insured damages against drought                         1419 non-null   float64\n",
      " 7   Total economic damages from drought                     1419 non-null   float64\n",
      " 8   Death rates from drought                                1419 non-null   float64\n",
      " 9   Homelessness rate from drought                          1419 non-null   int64  \n",
      " 10  Total number of people affected by drought per 100,000  1419 non-null   float64\n",
      "dtypes: float64(8), int64(3)\n",
      "memory usage: 133.0 KB\n"
     ]
    }
   ],
   "source": [
    "data.info()\n"
   ]
  },
  {
   "cell_type": "code",
   "execution_count": 50,
   "id": "9746deac",
   "metadata": {},
   "outputs": [],
   "source": [
    "corr=data.corr()"
   ]
  },
  {
   "cell_type": "code",
   "execution_count": 51,
   "id": "0461d736",
   "metadata": {},
   "outputs": [
    {
     "data": {
      "text/plain": [
       "<AxesSubplot:>"
      ]
     },
     "execution_count": 51,
     "metadata": {},
     "output_type": "execute_result"
    },
    {
     "data": {
      "image/png": "[encoded data removed]",
      "text/plain": [
       "<Figure size 1440x720 with 2 Axes>"
      ]
     },
     "metadata": {
      "needs_background": "light"
     },
     "output_type": "display_data"
    }
   ],
   "source": [
    "plt.subplots(figsize=(20,10))\n",
    "sns.heatmap(corr,vmin=0.96,vmax=1,annot=True,cmap='YlOrRd')"
   ]
  },
  {
   "cell_type": "code",
   "execution_count": null,
   "id": "17034c13",
   "metadata": {},
   "outputs": [],
   "source": []
  },
  {
   "cell_type": "code",
   "execution_count": 52,
   "id": "0a466498",
   "metadata": {},
   "outputs": [
    {
     "data": {
      "text/html": [
       "<div>\n",
       "<style scoped>\n",
       "    .dataframe tbody tr th:only-of-type {\n",
       "        vertical-align: middle;\n",
       "    }\n",
       "\n",
       "    .dataframe tbody tr th {\n",
       "        vertical-align: top;\n",
       "    }\n",
       "\n",
       "    .dataframe thead th {\n",
       "        text-align: right;\n",
       "    }\n",
       "</style>\n",
       "<table border=\"1\" class=\"dataframe\">\n",
       "  <thead>\n",
       "    <tr style=\"text-align: right;\">\n",
       "      <th></th>\n",
       "      <th>Year</th>\n",
       "      <th>Number of deaths from drought</th>\n",
       "      <th>Number of people injured from drought</th>\n",
       "      <th>Number of people affected from drought</th>\n",
       "      <th>Number of people left homeless from drought</th>\n",
       "      <th>Reconstruction costs from drought</th>\n",
       "      <th>Insured damages against drought</th>\n",
       "      <th>Total economic damages from drought</th>\n",
       "      <th>Death rates from drought</th>\n",
       "      <th>Homelessness rate from drought</th>\n",
       "    </tr>\n",
       "  </thead>\n",
       "  <tbody>\n",
       "    <tr>\n",
       "      <th>count</th>\n",
       "      <td>1419.000000</td>\n",
       "      <td>1419.000000</td>\n",
       "      <td>1419.000000</td>\n",
       "      <td>1.419000e+03</td>\n",
       "      <td>1419.0</td>\n",
       "      <td>1419.0</td>\n",
       "      <td>1.419000e+03</td>\n",
       "      <td>1.419000e+03</td>\n",
       "      <td>1419.000000</td>\n",
       "      <td>1419.0</td>\n",
       "    </tr>\n",
       "    <tr>\n",
       "      <th>mean</th>\n",
       "      <td>1971.346018</td>\n",
       "      <td>0.078154</td>\n",
       "      <td>0.002255</td>\n",
       "      <td>8.409375e+04</td>\n",
       "      <td>0.0</td>\n",
       "      <td>0.0</td>\n",
       "      <td>1.448485e+03</td>\n",
       "      <td>1.020195e+04</td>\n",
       "      <td>0.000266</td>\n",
       "      <td>0.0</td>\n",
       "    </tr>\n",
       "    <tr>\n",
       "      <th>std</th>\n",
       "      <td>30.382251</td>\n",
       "      <td>0.820765</td>\n",
       "      <td>0.084949</td>\n",
       "      <td>9.062954e+05</td>\n",
       "      <td>0.0</td>\n",
       "      <td>0.0</td>\n",
       "      <td>5.036174e+04</td>\n",
       "      <td>1.214927e+05</td>\n",
       "      <td>0.002710</td>\n",
       "      <td>0.0</td>\n",
       "    </tr>\n",
       "    <tr>\n",
       "      <th>min</th>\n",
       "      <td>1900.000000</td>\n",
       "      <td>0.000000</td>\n",
       "      <td>0.000000</td>\n",
       "      <td>0.000000e+00</td>\n",
       "      <td>0.0</td>\n",
       "      <td>0.0</td>\n",
       "      <td>0.000000e+00</td>\n",
       "      <td>0.000000e+00</td>\n",
       "      <td>0.000000</td>\n",
       "      <td>0.0</td>\n",
       "    </tr>\n",
       "    <tr>\n",
       "      <th>25%</th>\n",
       "      <td>1950.000000</td>\n",
       "      <td>0.000000</td>\n",
       "      <td>0.000000</td>\n",
       "      <td>0.000000e+00</td>\n",
       "      <td>0.0</td>\n",
       "      <td>0.0</td>\n",
       "      <td>0.000000e+00</td>\n",
       "      <td>0.000000e+00</td>\n",
       "      <td>0.000000</td>\n",
       "      <td>0.0</td>\n",
       "    </tr>\n",
       "    <tr>\n",
       "      <th>50%</th>\n",
       "      <td>1980.000000</td>\n",
       "      <td>0.000000</td>\n",
       "      <td>0.000000</td>\n",
       "      <td>0.000000e+00</td>\n",
       "      <td>0.0</td>\n",
       "      <td>0.0</td>\n",
       "      <td>0.000000e+00</td>\n",
       "      <td>0.000000e+00</td>\n",
       "      <td>0.000000</td>\n",
       "      <td>0.0</td>\n",
       "    </tr>\n",
       "    <tr>\n",
       "      <th>75%</th>\n",
       "      <td>2000.000000</td>\n",
       "      <td>0.000000</td>\n",
       "      <td>0.000000</td>\n",
       "      <td>0.000000e+00</td>\n",
       "      <td>0.0</td>\n",
       "      <td>0.0</td>\n",
       "      <td>0.000000e+00</td>\n",
       "      <td>0.000000e+00</td>\n",
       "      <td>0.000000</td>\n",
       "      <td>0.0</td>\n",
       "    </tr>\n",
       "    <tr>\n",
       "      <th>max</th>\n",
       "      <td>2010.000000</td>\n",
       "      <td>14.300000</td>\n",
       "      <td>3.200000</td>\n",
       "      <td>2.415240e+07</td>\n",
       "      <td>0.0</td>\n",
       "      <td>0.0</td>\n",
       "      <td>1.890000e+06</td>\n",
       "      <td>4.020000e+06</td>\n",
       "      <td>0.050105</td>\n",
       "      <td>0.0</td>\n",
       "    </tr>\n",
       "  </tbody>\n",
       "</table>\n",
       "</div>"
      ],
      "text/plain": [
       "              Year  Number of deaths from drought  \\\n",
       "count  1419.000000                    1419.000000   \n",
       "mean   1971.346018                       0.078154   \n",
       "std      30.382251                       0.820765   \n",
       "min    1900.000000                       0.000000   \n",
       "25%    1950.000000                       0.000000   \n",
       "50%    1980.000000                       0.000000   \n",
       "75%    2000.000000                       0.000000   \n",
       "max    2010.000000                      14.300000   \n",
       "\n",
       "       Number of people injured from drought  \\\n",
       "count                            1419.000000   \n",
       "mean                                0.002255   \n",
       "std                                 0.084949   \n",
       "min                                 0.000000   \n",
       "25%                                 0.000000   \n",
       "50%                                 0.000000   \n",
       "75%                                 0.000000   \n",
       "max                                 3.200000   \n",
       "\n",
       "       Number of people affected from drought  \\\n",
       "count                            1.419000e+03   \n",
       "mean                             8.409375e+04   \n",
       "std                              9.062954e+05   \n",
       "min                              0.000000e+00   \n",
       "25%                              0.000000e+00   \n",
       "50%                              0.000000e+00   \n",
       "75%                              0.000000e+00   \n",
       "max                              2.415240e+07   \n",
       "\n",
       "       Number of people left homeless from drought  \\\n",
       "count                                       1419.0   \n",
       "mean                                           0.0   \n",
       "std                                            0.0   \n",
       "min                                            0.0   \n",
       "25%                                            0.0   \n",
       "50%                                            0.0   \n",
       "75%                                            0.0   \n",
       "max                                            0.0   \n",
       "\n",
       "       Reconstruction costs from drought  Insured damages against drought  \\\n",
       "count                             1419.0                     1.419000e+03   \n",
       "mean                                 0.0                     1.448485e+03   \n",
       "std                                  0.0                     5.036174e+04   \n",
       "min                                  0.0                     0.000000e+00   \n",
       "25%                                  0.0                     0.000000e+00   \n",
       "50%                                  0.0                     0.000000e+00   \n",
       "75%                                  0.0                     0.000000e+00   \n",
       "max                                  0.0                     1.890000e+06   \n",
       "\n",
       "       Total economic damages from drought  Death rates from drought  \\\n",
       "count                         1.419000e+03               1419.000000   \n",
       "mean                          1.020195e+04                  0.000266   \n",
       "std                           1.214927e+05                  0.002710   \n",
       "min                           0.000000e+00                  0.000000   \n",
       "25%                           0.000000e+00                  0.000000   \n",
       "50%                           0.000000e+00                  0.000000   \n",
       "75%                           0.000000e+00                  0.000000   \n",
       "max                           4.020000e+06                  0.050105   \n",
       "\n",
       "       Homelessness rate from drought  \n",
       "count                          1419.0  \n",
       "mean                              0.0  \n",
       "std                               0.0  \n",
       "min                               0.0  \n",
       "25%                               0.0  \n",
       "50%                               0.0  \n",
       "75%                               0.0  \n",
       "max                               0.0  "
      ]
     },
     "execution_count": 52,
     "metadata": {},
     "output_type": "execute_result"
    }
   ],
   "source": [
    "X.describe()"
   ]
  },
  {
   "cell_type": "code",
   "execution_count": 53,
   "id": "f0df7a97",
   "metadata": {},
   "outputs": [],
   "source": [
    "from sklearn import preprocessing"
   ]
  },
  {
   "cell_type": "code",
   "execution_count": 54,
   "id": "d95b6e45",
   "metadata": {},
   "outputs": [
    {
     "data": {
      "text/html": [
       "<div>\n",
       "<style scoped>\n",
       "    .dataframe tbody tr th:only-of-type {\n",
       "        vertical-align: middle;\n",
       "    }\n",
       "\n",
       "    .dataframe tbody tr th {\n",
       "        vertical-align: top;\n",
       "    }\n",
       "\n",
       "    .dataframe thead th {\n",
       "        text-align: right;\n",
       "    }\n",
       "</style>\n",
       "<table border=\"1\" class=\"dataframe\">\n",
       "  <thead>\n",
       "    <tr style=\"text-align: right;\">\n",
       "      <th></th>\n",
       "      <th>0</th>\n",
       "      <th>1</th>\n",
       "      <th>2</th>\n",
       "      <th>3</th>\n",
       "      <th>4</th>\n",
       "      <th>5</th>\n",
       "      <th>6</th>\n",
       "      <th>7</th>\n",
       "      <th>8</th>\n",
       "      <th>9</th>\n",
       "    </tr>\n",
       "  </thead>\n",
       "  <tbody>\n",
       "    <tr>\n",
       "      <th>count</th>\n",
       "      <td>1419.000000</td>\n",
       "      <td>1419.000000</td>\n",
       "      <td>1419.000000</td>\n",
       "      <td>1419.000000</td>\n",
       "      <td>1419.0</td>\n",
       "      <td>1419.0</td>\n",
       "      <td>1419.000000</td>\n",
       "      <td>1419.000000</td>\n",
       "      <td>1419.000000</td>\n",
       "      <td>1419.0</td>\n",
       "    </tr>\n",
       "    <tr>\n",
       "      <th>mean</th>\n",
       "      <td>0.648600</td>\n",
       "      <td>0.005465</td>\n",
       "      <td>0.000705</td>\n",
       "      <td>0.003482</td>\n",
       "      <td>0.0</td>\n",
       "      <td>0.0</td>\n",
       "      <td>0.000766</td>\n",
       "      <td>0.002538</td>\n",
       "      <td>0.005308</td>\n",
       "      <td>0.0</td>\n",
       "    </tr>\n",
       "    <tr>\n",
       "      <th>std</th>\n",
       "      <td>0.276202</td>\n",
       "      <td>0.057396</td>\n",
       "      <td>0.026547</td>\n",
       "      <td>0.037524</td>\n",
       "      <td>0.0</td>\n",
       "      <td>0.0</td>\n",
       "      <td>0.026646</td>\n",
       "      <td>0.030222</td>\n",
       "      <td>0.054077</td>\n",
       "      <td>0.0</td>\n",
       "    </tr>\n",
       "    <tr>\n",
       "      <th>min</th>\n",
       "      <td>0.000000</td>\n",
       "      <td>0.000000</td>\n",
       "      <td>0.000000</td>\n",
       "      <td>0.000000</td>\n",
       "      <td>0.0</td>\n",
       "      <td>0.0</td>\n",
       "      <td>0.000000</td>\n",
       "      <td>0.000000</td>\n",
       "      <td>0.000000</td>\n",
       "      <td>0.0</td>\n",
       "    </tr>\n",
       "    <tr>\n",
       "      <th>25%</th>\n",
       "      <td>0.454545</td>\n",
       "      <td>0.000000</td>\n",
       "      <td>0.000000</td>\n",
       "      <td>0.000000</td>\n",
       "      <td>0.0</td>\n",
       "      <td>0.0</td>\n",
       "      <td>0.000000</td>\n",
       "      <td>0.000000</td>\n",
       "      <td>0.000000</td>\n",
       "      <td>0.0</td>\n",
       "    </tr>\n",
       "    <tr>\n",
       "      <th>50%</th>\n",
       "      <td>0.727273</td>\n",
       "      <td>0.000000</td>\n",
       "      <td>0.000000</td>\n",
       "      <td>0.000000</td>\n",
       "      <td>0.0</td>\n",
       "      <td>0.0</td>\n",
       "      <td>0.000000</td>\n",
       "      <td>0.000000</td>\n",
       "      <td>0.000000</td>\n",
       "      <td>0.0</td>\n",
       "    </tr>\n",
       "    <tr>\n",
       "      <th>75%</th>\n",
       "      <td>0.909091</td>\n",
       "      <td>0.000000</td>\n",
       "      <td>0.000000</td>\n",
       "      <td>0.000000</td>\n",
       "      <td>0.0</td>\n",
       "      <td>0.0</td>\n",
       "      <td>0.000000</td>\n",
       "      <td>0.000000</td>\n",
       "      <td>0.000000</td>\n",
       "      <td>0.0</td>\n",
       "    </tr>\n",
       "    <tr>\n",
       "      <th>max</th>\n",
       "      <td>1.000000</td>\n",
       "      <td>1.000000</td>\n",
       "      <td>1.000000</td>\n",
       "      <td>1.000000</td>\n",
       "      <td>0.0</td>\n",
       "      <td>0.0</td>\n",
       "      <td>1.000000</td>\n",
       "      <td>1.000000</td>\n",
       "      <td>1.000000</td>\n",
       "      <td>0.0</td>\n",
       "    </tr>\n",
       "  </tbody>\n",
       "</table>\n",
       "</div>"
      ],
      "text/plain": [
       "                 0            1            2            3       4       5  \\\n",
       "count  1419.000000  1419.000000  1419.000000  1419.000000  1419.0  1419.0   \n",
       "mean      0.648600     0.005465     0.000705     0.003482     0.0     0.0   \n",
       "std       0.276202     0.057396     0.026547     0.037524     0.0     0.0   \n",
       "min       0.000000     0.000000     0.000000     0.000000     0.0     0.0   \n",
       "25%       0.454545     0.000000     0.000000     0.000000     0.0     0.0   \n",
       "50%       0.727273     0.000000     0.000000     0.000000     0.0     0.0   \n",
       "75%       0.909091     0.000000     0.000000     0.000000     0.0     0.0   \n",
       "max       1.000000     1.000000     1.000000     1.000000     0.0     0.0   \n",
       "\n",
       "                 6            7            8       9  \n",
       "count  1419.000000  1419.000000  1419.000000  1419.0  \n",
       "mean      0.000766     0.002538     0.005308     0.0  \n",
       "std       0.026646     0.030222     0.054077     0.0  \n",
       "min       0.000000     0.000000     0.000000     0.0  \n",
       "25%       0.000000     0.000000     0.000000     0.0  \n",
       "50%       0.000000     0.000000     0.000000     0.0  \n",
       "75%       0.000000     0.000000     0.000000     0.0  \n",
       "max       1.000000     1.000000     1.000000     0.0  "
      ]
     },
     "execution_count": 54,
     "metadata": {},
     "output_type": "execute_result"
    }
   ],
   "source": [
    "minmax=preprocessing.MinMaxScaler(feature_range=(0,1))\n",
    "X=minmax.fit_transform(X)\n",
    "X=pd.DataFrame(X)\n",
    "X.describe()"
   ]
  },
  {
   "cell_type": "code",
   "execution_count": 55,
   "id": "a27fc584",
   "metadata": {},
   "outputs": [],
   "source": [
    "from sklearn.model_selection import train_test_split\n",
    "X_train,X_test,y_train,y_test=train_test_split(X,y,random_state=42,test_size=0.25)"
   ]
  },
  {
   "cell_type": "markdown",
   "id": "5a1fdf72",
   "metadata": {},
   "source": [
    "linear regression"
   ]
  },
  {
   "cell_type": "code",
   "execution_count": 79,
   "id": "3c2c1abc",
   "metadata": {},
   "outputs": [],
   "source": [
    "from sklearn import linear_model"
   ]
  },
  {
   "cell_type": "code",
   "execution_count": 80,
   "id": "79d1ea6e",
   "metadata": {},
   "outputs": [],
   "source": [
    "lr=linear_model.LinearRegression()"
   ]
  },
  {
   "cell_type": "code",
   "execution_count": 58,
   "id": "3bae3d89",
   "metadata": {},
   "outputs": [],
   "source": [
    "model=lr.fit(X_train,y_train)"
   ]
  },
  {
   "cell_type": "code",
   "execution_count": 59,
   "id": "fbf05b88",
   "metadata": {},
   "outputs": [],
   "source": [
    "predictions=model.predict(X_test)"
   ]
  },
  {
   "cell_type": "code",
   "execution_count": 60,
   "id": "f1b9b3dc",
   "metadata": {},
   "outputs": [
    {
     "name": "stdout",
     "output_type": "stream",
     "text": [
      "51      0.0\n",
      "300     0.0\n",
      "704     0.0\n",
      "1043    0.0\n",
      "378     0.0\n",
      "       ... \n",
      "1267    0.0\n",
      "142     0.0\n",
      "1068    0.0\n",
      "1301    0.0\n",
      "645     0.0\n",
      "Name: Total number of people affected by drought per 100,000, Length: 355, dtype: float64\n"
     ]
    }
   ],
   "source": [
    "print(y_test)"
   ]
  },
  {
   "cell_type": "code",
   "execution_count": 61,
   "id": "ff7cdc6b",
   "metadata": {},
   "outputs": [],
   "source": [
    "from sklearn.metrics import mean_squared_error,r2_score"
   ]
  },
  {
   "cell_type": "code",
   "execution_count": 62,
   "id": "1c33b610",
   "metadata": {},
   "outputs": [
    {
     "name": "stdout",
     "output_type": "stream",
     "text": [
      "MSE is 1270033.789369049\n",
      "r squared value is -0.10275098352507572\n"
     ]
    }
   ],
   "source": [
    "mse=mean_squared_error(y_test,predictions)\n",
    "print('MSE is',mse)\n",
    "print('r squared value is',r2_score(y_test,predictions))"
   ]
  },
  {
   "cell_type": "code",
   "execution_count": 81,
   "id": "4f14a91f",
   "metadata": {},
   "outputs": [],
   "source": [
    "#scaling"
   ]
  },
  {
   "cell_type": "code",
   "execution_count": 63,
   "id": "eb80f50b",
   "metadata": {},
   "outputs": [],
   "source": [
    "from sklearn.preprocessing import StandardScaler\n",
    "scaler=StandardScaler()\n",
    "X_train=scaler.fit_transform(X_train)\n",
    "X_test=scaler.fit_transform(X_test)"
   ]
  },
  {
   "cell_type": "code",
   "execution_count": 64,
   "id": "79675941",
   "metadata": {},
   "outputs": [],
   "source": [
    "lr=linear_model.LinearRegression()\n",
    "model=lr.fit(X_train,y_train)\n",
    "predictions=model.predict(X_test)"
   ]
  },
  {
   "cell_type": "code",
   "execution_count": 65,
   "id": "49ee367a",
   "metadata": {},
   "outputs": [
    {
     "name": "stdout",
     "output_type": "stream",
     "text": [
      "MSE is 1114995.7881189592\n",
      "r squared value is 0.03186615012397098\n"
     ]
    }
   ],
   "source": [
    "mse=mean_squared_error(y_test,predictions)\n",
    "print('MSE is',mse)\n",
    "print('r squared value is',r2_score(y_test,predictions))"
   ]
  },
  {
   "cell_type": "markdown",
   "id": "7f961ab9",
   "metadata": {},
   "source": [
    "knn"
   ]
  },
  {
   "cell_type": "code",
   "execution_count": 66,
   "id": "9ef81f92",
   "metadata": {},
   "outputs": [],
   "source": [
    "from sklearn.neighbors import KNeighborsRegressor"
   ]
  },
  {
   "cell_type": "code",
   "execution_count": 67,
   "id": "b0211622",
   "metadata": {},
   "outputs": [],
   "source": [
    "x=[]\n",
    "n=np.arange(3,15)\n",
    "for k in n:\n",
    "    kreg=KNeighborsRegressor(n_neighbors=8)\n",
    "    kreg.fit(X_train,y_train)\n",
    "    predictions=kreg.predict(X_test)\n",
    "\n",
    "    x.append(predictions)"
   ]
  },
  {
   "cell_type": "code",
   "execution_count": 68,
   "id": "12f78e05",
   "metadata": {},
   "outputs": [
    {
     "name": "stdout",
     "output_type": "stream",
     "text": [
      "MSE is 1045071.6288837211\n",
      "r squared value is 0.0925802319179132\n"
     ]
    }
   ],
   "source": [
    "mse=mean_squared_error(y_test,predictions)\n",
    "print('MSE is',mse)\n",
    "print('r squared value is',r2_score(y_test,predictions))"
   ]
  },
  {
   "cell_type": "markdown",
   "id": "4e3df256",
   "metadata": {},
   "source": [
    "random forest"
   ]
  },
  {
   "cell_type": "code",
   "execution_count": 69,
   "id": "dc38b721",
   "metadata": {},
   "outputs": [],
   "source": [
    "from sklearn.ensemble import RandomForestRegressor\n",
    "regressor = RandomForestRegressor()\n",
    "regressor.fit(X_train,y_train)\n",
    "predictions=regressor.predict(X_test)"
   ]
  },
  {
   "cell_type": "code",
   "execution_count": 70,
   "id": "534bfff2",
   "metadata": {},
   "outputs": [
    {
     "name": "stdout",
     "output_type": "stream",
     "text": [
      "MSE is 1106904.5883692235\n",
      "r squared value is 0.03889161555379361\n"
     ]
    }
   ],
   "source": [
    "mse=mean_squared_error(y_test,predictions)\n",
    "print('MSE is',mse)\n",
    "print('r squared value is',r2_score(y_test,predictions))"
   ]
  },
  {
   "cell_type": "markdown",
   "id": "7152aef4",
   "metadata": {},
   "source": [
    "hyper parameters"
   ]
  },
  {
   "cell_type": "code",
   "execution_count": 82,
   "id": "026cf111",
   "metadata": {},
   "outputs": [],
   "source": [
    "regressor = RandomForestRegressor(n_estimators=500,max_depth=10,random_state=42)\n",
    "regressor.fit(X_train,y_train)\n",
    "predictions=regressor.predict(X_test)"
   ]
  },
  {
   "cell_type": "code",
   "execution_count": null,
   "id": "e49ac629",
   "metadata": {},
   "outputs": [],
   "source": [
    "mse=mean_squared_error(y_test,predictions)\n",
    "print('MSE is',mse)\n",
    "print('r squared value is',r2_score(y_test,predictions))"
   ]
  },
  {
   "cell_type": "markdown",
   "id": "36239c5b",
   "metadata": {},
   "source": [
    "decision tree"
   ]
  },
  {
   "cell_type": "code",
   "execution_count": 71,
   "id": "905ebc1f",
   "metadata": {},
   "outputs": [],
   "source": [
    "from sklearn.tree import DecisionTreeRegressor\n",
    "dreg=DecisionTreeRegressor()\n",
    "dreg.fit(X_train,y_train)\n",
    "predictions=dreg.predict(X_test)"
   ]
  },
  {
   "cell_type": "code",
   "execution_count": 72,
   "id": "431e9928",
   "metadata": {},
   "outputs": [
    {
     "name": "stdout",
     "output_type": "stream",
     "text": [
      "MSE is 1877808.5080380498\n",
      "r squared value is -0.6304725090341592\n"
     ]
    }
   ],
   "source": [
    "mse=mean_squared_error(y_test,predictions)\n",
    "print('MSE is',mse)\n",
    "print('r squared value is',r2_score(y_test,predictions))"
   ]
  },
  {
   "cell_type": "markdown",
   "id": "fe9c1078",
   "metadata": {},
   "source": [
    "svm"
   ]
  },
  {
   "cell_type": "code",
   "execution_count": 83,
   "id": "50e352a3",
   "metadata": {},
   "outputs": [],
   "source": [
    "from sklearn.svm import SVR\n",
    "sreg = SVR(kernel = 'linear')\n",
    "sreg.fit(X_train,y_train)\n",
    "predictions=sreg.predict(X_test)"
   ]
  },
  {
   "cell_type": "code",
   "execution_count": 84,
   "id": "a46efeff",
   "metadata": {},
   "outputs": [
    {
     "name": "stdout",
     "output_type": "stream",
     "text": [
      "MSE is 1210090.6175092016\n",
      "r squared value is -0.050703240955250806\n"
     ]
    }
   ],
   "source": [
    "mse=mean_squared_error(y_test,predictions)\n",
    "print('MSE is',mse)\n",
    "print('r squared value is',r2_score(y_test,predictions))"
   ]
  },
  {
   "cell_type": "code",
   "execution_count": null,
   "id": "605b468f",
   "metadata": {},
   "outputs": [],
   "source": []
  },
  {
   "cell_type": "code",
   "execution_count": null,
   "id": "78475013",
   "metadata": {},
   "outputs": [],
   "source": []
  }
 ],
 "metadata": {
  "kernelspec": {
   "display_name": "Python 3",
   "language": "python",
   "name": "python3"
  },
  "language_info": {
   "codemirror_mode": {
    "name": "ipython",
    "version": 3
   },
   "file_extension": ".py",
   "mimetype": "text/x-python",
   "name": "python",
   "nbconvert_exporter": "python",
   "pygments_lexer": "ipython3",
   "version": "3.8.8"
  }
 },
 "nbformat": 4,
 "nbformat_minor": 5
}
